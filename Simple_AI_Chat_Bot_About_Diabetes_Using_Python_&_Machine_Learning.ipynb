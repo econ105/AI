{
  "nbformat": 4,
  "nbformat_minor": 0,
  "metadata": {
    "colab": {
      "provenance": [],
      "include_colab_link": true
    },
    "kernelspec": {
      "name": "python3",
      "display_name": "Python 3"
    },
    "language_info": {
      "name": "python"
    }
  },
  "cells": [
    {
      "cell_type": "markdown",
      "metadata": {
        "id": "view-in-github",
        "colab_type": "text"
      },
      "source": [
        "<a href=\"https://colab.research.google.com/github/econ105/AI/blob/main/Simple_AI_Chat_Bot_About_Diabetes_Using_Python_%26_Machine_Learning.ipynb\" target=\"_parent\"><img src=\"https://colab.research.google.com/assets/colab-badge.svg\" alt=\"Open In Colab\"/></a>"
      ]
    },
    {
      "cell_type": "code",
      "metadata": {
        "id": "_wqNZMAmdfOM"
      },
      "source": [
        "#description: This is a 'smart' chat bot program"
      ],
      "execution_count": 14,
      "outputs": []
    },
    {
      "cell_type": "code",
      "metadata": {
        "colab": {
          "base_uri": "https://localhost:8080/"
        },
        "id": "L6hktUbvdtDz",
        "outputId": "4c448705-997e-444d-e53f-226fa8897c24"
      },
      "source": [
        "pip install nltk"
      ],
      "execution_count": 15,
      "outputs": [
        {
          "output_type": "stream",
          "name": "stdout",
          "text": [
            "Requirement already satisfied: nltk in /usr/local/lib/python3.10/dist-packages (3.8.1)\n",
            "Requirement already satisfied: click in /usr/local/lib/python3.10/dist-packages (from nltk) (8.1.7)\n",
            "Requirement already satisfied: joblib in /usr/local/lib/python3.10/dist-packages (from nltk) (1.3.2)\n",
            "Requirement already satisfied: regex>=2021.8.3 in /usr/local/lib/python3.10/dist-packages (from nltk) (2023.6.3)\n",
            "Requirement already satisfied: tqdm in /usr/local/lib/python3.10/dist-packages (from nltk) (4.66.1)\n"
          ]
        }
      ]
    },
    {
      "cell_type": "markdown",
      "source": [
        "If you wish to know more about ntlk package, a package of AI (natural language tool kit), please refer to: https://www.nltk.org/"
      ],
      "metadata": {
        "id": "zw02uFEuHwL3"
      }
    },
    {
      "cell_type": "code",
      "metadata": {
        "colab": {
          "base_uri": "https://localhost:8080/"
        },
        "id": "ljmOxMWOd49k",
        "outputId": "1813b68e-0ab6-4260-dbe8-ccd757f32753"
      },
      "source": [
        "pip install newspaper3k"
      ],
      "execution_count": 16,
      "outputs": [
        {
          "output_type": "stream",
          "name": "stdout",
          "text": [
            "Requirement already satisfied: newspaper3k in /usr/local/lib/python3.10/dist-packages (0.2.8)\n",
            "Requirement already satisfied: beautifulsoup4>=4.4.1 in /usr/local/lib/python3.10/dist-packages (from newspaper3k) (4.11.2)\n",
            "Requirement already satisfied: Pillow>=3.3.0 in /usr/local/lib/python3.10/dist-packages (from newspaper3k) (9.4.0)\n",
            "Requirement already satisfied: PyYAML>=3.11 in /usr/local/lib/python3.10/dist-packages (from newspaper3k) (6.0.1)\n",
            "Requirement already satisfied: cssselect>=0.9.2 in /usr/local/lib/python3.10/dist-packages (from newspaper3k) (1.2.0)\n",
            "Requirement already satisfied: lxml>=3.6.0 in /usr/local/lib/python3.10/dist-packages (from newspaper3k) (4.9.4)\n",
            "Requirement already satisfied: nltk>=3.2.1 in /usr/local/lib/python3.10/dist-packages (from newspaper3k) (3.8.1)\n",
            "Requirement already satisfied: requests>=2.10.0 in /usr/local/lib/python3.10/dist-packages (from newspaper3k) (2.31.0)\n",
            "Requirement already satisfied: feedparser>=5.2.1 in /usr/local/lib/python3.10/dist-packages (from newspaper3k) (6.0.11)\n",
            "Requirement already satisfied: tldextract>=2.0.1 in /usr/local/lib/python3.10/dist-packages (from newspaper3k) (5.1.1)\n",
            "Requirement already satisfied: feedfinder2>=0.0.4 in /usr/local/lib/python3.10/dist-packages (from newspaper3k) (0.0.4)\n",
            "Requirement already satisfied: jieba3k>=0.35.1 in /usr/local/lib/python3.10/dist-packages (from newspaper3k) (0.35.1)\n",
            "Requirement already satisfied: python-dateutil>=2.5.3 in /usr/local/lib/python3.10/dist-packages (from newspaper3k) (2.8.2)\n",
            "Requirement already satisfied: tinysegmenter==0.3 in /usr/local/lib/python3.10/dist-packages (from newspaper3k) (0.3)\n",
            "Requirement already satisfied: soupsieve>1.2 in /usr/local/lib/python3.10/dist-packages (from beautifulsoup4>=4.4.1->newspaper3k) (2.5)\n",
            "Requirement already satisfied: six in /usr/local/lib/python3.10/dist-packages (from feedfinder2>=0.0.4->newspaper3k) (1.16.0)\n",
            "Requirement already satisfied: sgmllib3k in /usr/local/lib/python3.10/dist-packages (from feedparser>=5.2.1->newspaper3k) (1.0.0)\n",
            "Requirement already satisfied: click in /usr/local/lib/python3.10/dist-packages (from nltk>=3.2.1->newspaper3k) (8.1.7)\n",
            "Requirement already satisfied: joblib in /usr/local/lib/python3.10/dist-packages (from nltk>=3.2.1->newspaper3k) (1.3.2)\n",
            "Requirement already satisfied: regex>=2021.8.3 in /usr/local/lib/python3.10/dist-packages (from nltk>=3.2.1->newspaper3k) (2023.6.3)\n",
            "Requirement already satisfied: tqdm in /usr/local/lib/python3.10/dist-packages (from nltk>=3.2.1->newspaper3k) (4.66.1)\n",
            "Requirement already satisfied: charset-normalizer<4,>=2 in /usr/local/lib/python3.10/dist-packages (from requests>=2.10.0->newspaper3k) (3.3.2)\n",
            "Requirement already satisfied: idna<4,>=2.5 in /usr/local/lib/python3.10/dist-packages (from requests>=2.10.0->newspaper3k) (3.6)\n",
            "Requirement already satisfied: urllib3<3,>=1.21.1 in /usr/local/lib/python3.10/dist-packages (from requests>=2.10.0->newspaper3k) (2.0.7)\n",
            "Requirement already satisfied: certifi>=2017.4.17 in /usr/local/lib/python3.10/dist-packages (from requests>=2.10.0->newspaper3k) (2023.11.17)\n",
            "Requirement already satisfied: requests-file>=1.4 in /usr/local/lib/python3.10/dist-packages (from tldextract>=2.0.1->newspaper3k) (1.5.1)\n",
            "Requirement already satisfied: filelock>=3.0.8 in /usr/local/lib/python3.10/dist-packages (from tldextract>=2.0.1->newspaper3k) (3.13.1)\n"
          ]
        }
      ]
    },
    {
      "cell_type": "markdown",
      "source": [
        "For details about newspaper 3k, please refer to https://newspaper.readthedocs.io/en/latest/"
      ],
      "metadata": {
        "id": "hZgXQzpyH9he"
      }
    },
    {
      "cell_type": "code",
      "metadata": {
        "id": "0yPWgXysePpi"
      },
      "source": [
        "# Import the libraries\n",
        "from newspaper import Article\n",
        "import random\n",
        "import string\n",
        "import nltk\n",
        "from sklearn.feature_extraction.text import CountVectorizer\n",
        "from sklearn.metrics.pairwise import cosine_similarity\n",
        "import numpy as np\n",
        "import warnings\n",
        "warnings.filterwarnings('ignore')"
      ],
      "execution_count": 17,
      "outputs": []
    },
    {
      "cell_type": "markdown",
      "source": [
        "\n",
        "\n",
        "    from newspaper import Article\n",
        "        This line imports the Article class from the newspaper library. The newspaper library is used for extracting and parsing articles from websites.\n",
        "\n",
        "    import random\n",
        "        This line imports the random module, which provides functions for generating random numbers, selecting random elements from a list, and other randomization operations.\n",
        "\n",
        "    import string\n",
        "        This line imports the string module, which provides a collection of string constants and helper functions for string manipulation.\n",
        "\n",
        "    import nltk\n",
        "        This line imports the nltk library, which stands for Natural Language Toolkit. nltk provides various tools and resources for natural language processing tasks.\n",
        "\n",
        "    from sklearn.feature_extraction.text import CountVectorizer\n",
        "        This line imports the CountVectorizer class from the sklearn.feature_extraction.text module. CountVectorizer is a text preprocessing technique used for converting a collection of text documents into a matrix of token counts.\n",
        "\n",
        "    from sklearn.metrics.pairwise import cosine_similarity\n",
        "        This line imports the cosine_similarity function from the sklearn.metrics.pairwise module. cosine_similarity is a function that calculates the cosine similarity between two vectors or a matrix of vectors. It is commonly used to measure similarity between documents or sentences.\n",
        "\n",
        "    import numpy as np\n",
        "        This line imports the numpy library and assigns it the alias np. numpy is a popular library for numerical computing in Python, providing support for arrays, matrices, and mathematical operations.\n",
        "\n",
        "    import warnings\n",
        "        This line imports the warnings module, which provides functions for issuing warning messages during program execution.\n",
        "\n",
        "    warnings.filterwarnings('ignore')\n",
        "        This line sets the warning filter to ignore warnings. It suppresses warnings that might be generated during the execution of the program.\n"
      ],
      "metadata": {
        "id": "POA-z0eoI9zD"
      }
    },
    {
      "cell_type": "code",
      "metadata": {
        "colab": {
          "base_uri": "https://localhost:8080/"
        },
        "id": "vLl8-CcJiusL",
        "outputId": "8121eb1f-22d5-4924-e329-1a06fc0f8bf8"
      },
      "source": [
        "# Download the punkt package\n",
        "nltk.download('punkt', quiet=True)"
      ],
      "execution_count": 18,
      "outputs": [
        {
          "output_type": "execute_result",
          "data": {
            "text/plain": [
              "True"
            ]
          },
          "metadata": {},
          "execution_count": 18
        }
      ]
    },
    {
      "cell_type": "code",
      "metadata": {
        "id": "Txqm0OzrfUvu"
      },
      "source": [
        "# Get the article\n",
        "article = Article('https://www.mayoclinic.org/diseases-conditions/diabetes/symptoms-causes/syc-20371444')\n",
        "article.download()\n",
        "article.parse()\n",
        "article.nlp()\n",
        "corpus = article.text"
      ],
      "execution_count": 19,
      "outputs": []
    },
    {
      "cell_type": "code",
      "metadata": {
        "colab": {
          "base_uri": "https://localhost:8080/"
        },
        "id": "hjrHG9mNkQS-",
        "outputId": "39adcce2-631e-4349-b04f-42735188dc2a"
      },
      "source": [
        "# Print the articles text\n",
        "print(corpus)"
      ],
      "execution_count": 20,
      "outputs": [
        {
          "output_type": "stream",
          "name": "stdout",
          "text": [
            "Overview\n",
            "\n",
            "Diabetes mellitus refers to a group of diseases that affect how the body uses blood sugar (glucose). Glucose is an important source of energy for the cells that make up the muscles and tissues. It's also the brain's main source of fuel.\n",
            "\n",
            "The main cause of diabetes varies by type. But no matter what type of diabetes you have, it can lead to excess sugar in the blood. Too much sugar in the blood can lead to serious health problems.\n",
            "\n",
            "Chronic diabetes conditions include type 1 diabetes and type 2 diabetes. Potentially reversible diabetes conditions include prediabetes and gestational diabetes. Prediabetes happens when blood sugar levels are higher than normal. But the blood sugar levels aren't high enough to be called diabetes. And prediabetes can lead to diabetes unless steps are taken to prevent it. Gestational diabetes happens during pregnancy. But it may go away after the baby is born.\n",
            "\n",
            "Products & Services A Book: The Essential Diabetes Book\n",
            "\n",
            "Symptoms\n",
            "\n",
            "Diabetes symptoms depend on how high your blood sugar is. Some people, especially if they have prediabetes, gestational diabetes or type 2 diabetes, may not have symptoms. In type 1 diabetes, symptoms tend to come on quickly and be more severe.\n",
            "\n",
            "Some of the symptoms of type 1 diabetes and type 2 diabetes are:\n",
            "\n",
            "Feeling more thirsty than usual.\n",
            "\n",
            "Urinating often.\n",
            "\n",
            "Losing weight without trying.\n",
            "\n",
            "Presence of ketones in the urine. Ketones are a byproduct of the breakdown of muscle and fat that happens when there's not enough available insulin.\n",
            "\n",
            "Feeling tired and weak.\n",
            "\n",
            "Feeling irritable or having other mood changes.\n",
            "\n",
            "Having blurry vision.\n",
            "\n",
            "Having slow-healing sores.\n",
            "\n",
            "Getting a lot of infections, such as gum, skin and vaginal infections.\n",
            "\n",
            "Type 1 diabetes can start at any age. But it often starts during childhood or teen years. Type 2 diabetes, the more common type, can develop at any age. Type 2 diabetes is more common in people older than 40. But type 2 diabetes in children is increasing.\n",
            "\n",
            "When to see a doctor\n",
            "\n",
            "If you think you or your child may have diabetes. If you notice any possible diabetes symptoms, contact your health care provider. The earlier the condition is diagnosed, the sooner treatment can begin.\n",
            "\n",
            "If you notice any possible diabetes symptoms, contact your health care provider. The earlier the condition is diagnosed, the sooner treatment can begin. If you've already been diagnosed with diabetes. After you receive your diagnosis, you'll need close medical follow-up until your blood sugar levels stabilize.\n",
            "\n",
            "There is a problem with information submitted for this request. Review/update the information highlighted below and resubmit the form. From Mayo Clinic to your inbox Sign up for free and stay up to date on research advancements, health tips, current health topics, and expertise on managing health. Click here for an email preview. Email ErrorEmail field is required ErrorInclude a valid email address Learn more about Mayo Clinic’s use of data. To provide you with the most relevant and helpful information, and understand which information is beneficial, we may combine your email and website usage information with other information we have about you. If you are a Mayo Clinic patient, this could include protected health information. If we combine this information with your protected health information, we will treat all of that information as protected health information and will only use or disclose that information as set forth in our notice of privacy practices. You may opt-out of email communications at any time by clicking on the unsubscribe link in the e-mail. Subscribe! Thank you for subscribing! You'll soon start receiving the latest Mayo Clinic health information you requested in your inbox. Sorry something went wrong with your subscription Please, try again in a couple of minutes Retry\n",
            "\n",
            "Causes\n",
            "\n",
            "To understand diabetes, it's important to understand how the body normally uses glucose.\n",
            "\n",
            "How insulin works\n",
            "\n",
            "Insulin is a hormone that comes from a gland behind and below the stomach (pancreas).\n",
            "\n",
            "The pancreas releases insulin into the bloodstream.\n",
            "\n",
            "The insulin circulates, letting sugar enter the cells.\n",
            "\n",
            "Insulin lowers the amount of sugar in the bloodstream.\n",
            "\n",
            "As the blood sugar level drops, so does the secretion of insulin from the pancreas.\n",
            "\n",
            "The role of glucose\n",
            "\n",
            "Glucose — a sugar — is a source of energy for the cells that make up muscles and other tissues.\n",
            "\n",
            "Glucose comes from two major sources: food and the liver.\n",
            "\n",
            "Sugar is absorbed into the bloodstream, where it enters cells with the help of insulin.\n",
            "\n",
            "The liver stores and makes glucose.\n",
            "\n",
            "When glucose levels are low, such as when you haven't eaten in a while, the liver breaks down stored glycogen into glucose. This keeps your glucose level within a typical range.\n",
            "\n",
            "The exact cause of most types of diabetes is unknown. In all cases, sugar builds up in the bloodstream. This is because the pancreas doesn't produce enough insulin. Both type 1 and type 2 diabetes may be caused by a combination of genetic or environmental factors. It is unclear what those factors may be.\n",
            "\n",
            "Risk factors\n",
            "\n",
            "Risk factors for diabetes depend on the type of diabetes. Family history may play a part in all types. Environmental factors and geography can add to the risk of type 1 diabetes.\n",
            "\n",
            "Sometimes family members of people with type 1 diabetes are tested for the presence of diabetes immune system cells (autoantibodies). If you have these autoantibodies, you have an increased risk of developing type 1 diabetes. But not everyone who has these autoantibodies develops diabetes.\n",
            "\n",
            "Race or ethnicity also may raise your risk of developing type 2 diabetes. Although it's unclear why, certain people — including Black, Hispanic, American Indian and Asian American people — are at higher risk.\n",
            "\n",
            "Prediabetes, type 2 diabetes and gestational diabetes are more common in people who are overweight or obese.\n",
            "\n",
            "Complications\n",
            "\n",
            "Long-term complications of diabetes develop gradually. The longer you have diabetes — and the less controlled your blood sugar — the higher the risk of complications. Eventually, diabetes complications may be disabling or even life-threatening. In fact, prediabetes can lead to type 2 diabetes. Possible complications include:\n",
            "\n",
            "Heart and blood vessel (cardiovascular) disease. Diabetes majorly increases the risk of many heart problems. These can include coronary artery disease with chest pain (angina), heart attack, stroke and narrowing of arteries (atherosclerosis). If you have diabetes, you're more likely to have heart disease or stroke.\n",
            "\n",
            "Diabetes majorly increases the risk of many heart problems. These can include coronary artery disease with chest pain (angina), heart attack, stroke and narrowing of arteries (atherosclerosis). If you have diabetes, you're more likely to have heart disease or stroke. Nerve damage from diabetes (diabetic neuropathy). Too much sugar can injure the walls of the tiny blood vessels (capillaries) that nourish the nerves, especially in the legs. This can cause tingling, numbness, burning or pain that usually begins at the tips of the toes or fingers and gradually spreads upward. Damage to the nerves related to digestion can cause problems with nausea, vomiting, diarrhea or constipation. For men, it may lead to erectile dysfunction.\n",
            "\n",
            "Kidney damage from diabetes (diabetic nephropathy). The kidneys hold millions of tiny blood vessel clusters (glomeruli) that filter waste from the blood. Diabetes can damage this delicate filtering system.\n",
            "\n",
            "The kidneys hold millions of tiny blood vessel clusters (glomeruli) that filter waste from the blood. Diabetes can damage this delicate filtering system. Eye damage from diabetes (diabetic retinopathy). Diabetes can damage the blood vessels of the eye. This could lead to blindness.\n",
            "\n",
            "Diabetes can damage the blood vessels of the eye. This could lead to blindness. Foot damage. Nerve damage in the feet or poor blood flow to the feet increases the risk of many foot complications.\n",
            "\n",
            "Nerve damage in the feet or poor blood flow to the feet increases the risk of many foot complications. Skin and mouth conditions. Diabetes may leave you more prone to skin problems, including bacterial and fungal infections.\n",
            "\n",
            "Diabetes may leave you more prone to skin problems, including bacterial and fungal infections. Hearing impairment. Hearing problems are more common in people with diabetes.\n",
            "\n",
            "Hearing problems are more common in people with diabetes. Alzheimer's disease. Type 2 diabetes may increase the risk of dementia, such as Alzheimer's disease.\n",
            "\n",
            "Type 2 diabetes may increase the risk of dementia, such as Alzheimer's disease. Depression related to diabetes. Depression symptoms are common in people with type 1 and type 2 diabetes.\n",
            "\n",
            "Complications of gestational diabetes\n",
            "\n",
            "Most women who have gestational diabetes deliver healthy babies. However, untreated or uncontrolled blood sugar levels can cause problems for you and your baby.\n",
            "\n",
            "Complications in your baby can be caused by gestational diabetes, including:\n",
            "\n",
            "Excess growth. Extra glucose can cross the placenta. Extra glucose triggers the baby's pancreas to make extra insulin. This can cause your baby to grow too large. It can lead to a difficult birth and sometimes the need for a C-section.\n",
            "\n",
            "Extra glucose can cross the placenta. Extra glucose triggers the baby's pancreas to make extra insulin. This can cause your baby to grow too large. It can lead to a difficult birth and sometimes the need for a C-section. Low blood sugar. Sometimes babies of mothers with gestational diabetes develop low blood sugar (hypoglycemia) shortly after birth. This is because their own insulin production is high.\n",
            "\n",
            "Sometimes babies of mothers with gestational diabetes develop low blood sugar (hypoglycemia) shortly after birth. This is because their own insulin production is high. Type 2 diabetes later in life. Babies of mothers who have gestational diabetes have a higher risk of developing obesity and type 2 diabetes later in life.\n",
            "\n",
            "Babies of mothers who have gestational diabetes have a higher risk of developing obesity and type 2 diabetes later in life. Death. Untreated gestational diabetes can lead to a baby's death either before or shortly after birth.\n",
            "\n",
            "Complications in the mother also can be caused by gestational diabetes, including:\n",
            "\n",
            "Preeclampsia. Symptoms of this condition include high blood pressure, too much protein in the urine, and swelling in the legs and feet.\n",
            "\n",
            "Symptoms of this condition include high blood pressure, too much protein in the urine, and swelling in the legs and feet. Gestational diabetes. If you had gestational diabetes in one pregnancy, you're more likely to have it again with the next pregnancy.\n",
            "\n",
            "Prevention\n",
            "\n",
            "Type 1 diabetes can't be prevented. But the healthy lifestyle choices that help treat prediabetes, type 2 diabetes and gestational diabetes can also help prevent them:\n",
            "\n",
            "Eat healthy foods. Choose foods lower in fat and calories and higher in fiber. Focus on fruits, vegetables and whole grains. Eat a variety to keep from feeling bored.\n",
            "\n",
            "Choose foods lower in fat and calories and higher in fiber. Focus on fruits, vegetables and whole grains. Eat a variety to keep from feeling bored. Get more physical activity. Try to get about 30 minutes of moderate aerobic activity on most days of the week. Or aim to get at least 150 minutes of moderate aerobic activity a week. For example, take a brisk daily walk. If you can't fit in a long workout, break it up into smaller sessions throughout the day.\n",
            "\n",
            "Try to get about 30 minutes of moderate aerobic activity on most days of the week. Or aim to get at least 150 minutes of moderate aerobic activity a week. For example, take a brisk daily walk. If you can't fit in a long workout, break it up into smaller sessions throughout the day. Lose excess pounds. If you're overweight, losing even 7% of your body weight can lower the risk of diabetes. For example, if you weigh 200 pounds (90.7 kilograms), losing 14 pounds (6.4 kilograms) can lower the risk of diabetes. But don't try to lose weight during pregnancy. Talk to your provider about how much weight is healthy for you to gain during pregnancy. To keep your weight in a healthy range, work on long-term changes to your eating and exercise habits. Remember the benefits of losing weight, such as a healthier heart, more energy and higher self-esteem.\n",
            "\n",
            "Sometimes drugs are an option. Oral diabetes drugs such as metformin (Glumetza, Fortamet, others) may lower the risk of type 2 diabetes. But healthy lifestyle choices are important. If you have prediabetes, have your blood sugar checked at least once a year to make sure you haven't developed type 2 diabetes.\n"
          ]
        }
      ]
    },
    {
      "cell_type": "code",
      "metadata": {
        "id": "thoTu6hmmSwb"
      },
      "source": [
        "# Tokenization\n",
        "text = corpus\n",
        "sentence_list = nltk.sent_tokenize(text) # A list of sentences"
      ],
      "execution_count": 21,
      "outputs": []
    },
    {
      "cell_type": "code",
      "metadata": {
        "colab": {
          "base_uri": "https://localhost:8080/"
        },
        "id": "yFRzINtNmzdA",
        "outputId": "27e91ab6-1209-4805-b1e9-db132594b30d"
      },
      "source": [
        "# Print the list of sentences\n",
        "print(sentence_list)"
      ],
      "execution_count": 22,
      "outputs": [
        {
          "output_type": "stream",
          "name": "stdout",
          "text": [
            "['Overview\\n\\nDiabetes mellitus refers to a group of diseases that affect how the body uses blood sugar (glucose).', 'Glucose is an important source of energy for the cells that make up the muscles and tissues.', \"It's also the brain's main source of fuel.\", 'The main cause of diabetes varies by type.', 'But no matter what type of diabetes you have, it can lead to excess sugar in the blood.', 'Too much sugar in the blood can lead to serious health problems.', 'Chronic diabetes conditions include type 1 diabetes and type 2 diabetes.', 'Potentially reversible diabetes conditions include prediabetes and gestational diabetes.', 'Prediabetes happens when blood sugar levels are higher than normal.', \"But the blood sugar levels aren't high enough to be called diabetes.\", 'And prediabetes can lead to diabetes unless steps are taken to prevent it.', 'Gestational diabetes happens during pregnancy.', 'But it may go away after the baby is born.', 'Products & Services A Book: The Essential Diabetes Book\\n\\nSymptoms\\n\\nDiabetes symptoms depend on how high your blood sugar is.', 'Some people, especially if they have prediabetes, gestational diabetes or type 2 diabetes, may not have symptoms.', 'In type 1 diabetes, symptoms tend to come on quickly and be more severe.', 'Some of the symptoms of type 1 diabetes and type 2 diabetes are:\\n\\nFeeling more thirsty than usual.', 'Urinating often.', 'Losing weight without trying.', 'Presence of ketones in the urine.', \"Ketones are a byproduct of the breakdown of muscle and fat that happens when there's not enough available insulin.\", 'Feeling tired and weak.', 'Feeling irritable or having other mood changes.', 'Having blurry vision.', 'Having slow-healing sores.', 'Getting a lot of infections, such as gum, skin and vaginal infections.', 'Type 1 diabetes can start at any age.', 'But it often starts during childhood or teen years.', 'Type 2 diabetes, the more common type, can develop at any age.', 'Type 2 diabetes is more common in people older than 40.', 'But type 2 diabetes in children is increasing.', 'When to see a doctor\\n\\nIf you think you or your child may have diabetes.', 'If you notice any possible diabetes symptoms, contact your health care provider.', 'The earlier the condition is diagnosed, the sooner treatment can begin.', 'If you notice any possible diabetes symptoms, contact your health care provider.', 'The earlier the condition is diagnosed, the sooner treatment can begin.', \"If you've already been diagnosed with diabetes.\", \"After you receive your diagnosis, you'll need close medical follow-up until your blood sugar levels stabilize.\", 'There is a problem with information submitted for this request.', 'Review/update the information highlighted below and resubmit the form.', 'From Mayo Clinic to your inbox Sign up for free and stay up to date on research advancements, health tips, current health topics, and expertise on managing health.', 'Click here for an email preview.', 'Email ErrorEmail field is required ErrorInclude a valid email address Learn more about Mayo Clinic’s use of data.', 'To provide you with the most relevant and helpful information, and understand which information is beneficial, we may combine your email and website usage information with other information we have about you.', 'If you are a Mayo Clinic patient, this could include protected health information.', 'If we combine this information with your protected health information, we will treat all of that information as protected health information and will only use or disclose that information as set forth in our notice of privacy practices.', 'You may opt-out of email communications at any time by clicking on the unsubscribe link in the e-mail.', 'Subscribe!', 'Thank you for subscribing!', \"You'll soon start receiving the latest Mayo Clinic health information you requested in your inbox.\", \"Sorry something went wrong with your subscription Please, try again in a couple of minutes Retry\\n\\nCauses\\n\\nTo understand diabetes, it's important to understand how the body normally uses glucose.\", 'How insulin works\\n\\nInsulin is a hormone that comes from a gland behind and below the stomach (pancreas).', 'The pancreas releases insulin into the bloodstream.', 'The insulin circulates, letting sugar enter the cells.', 'Insulin lowers the amount of sugar in the bloodstream.', 'As the blood sugar level drops, so does the secretion of insulin from the pancreas.', 'The role of glucose\\n\\nGlucose — a sugar — is a source of energy for the cells that make up muscles and other tissues.', 'Glucose comes from two major sources: food and the liver.', 'Sugar is absorbed into the bloodstream, where it enters cells with the help of insulin.', 'The liver stores and makes glucose.', \"When glucose levels are low, such as when you haven't eaten in a while, the liver breaks down stored glycogen into glucose.\", 'This keeps your glucose level within a typical range.', 'The exact cause of most types of diabetes is unknown.', 'In all cases, sugar builds up in the bloodstream.', \"This is because the pancreas doesn't produce enough insulin.\", 'Both type 1 and type 2 diabetes may be caused by a combination of genetic or environmental factors.', 'It is unclear what those factors may be.', 'Risk factors\\n\\nRisk factors for diabetes depend on the type of diabetes.', 'Family history may play a part in all types.', 'Environmental factors and geography can add to the risk of type 1 diabetes.', 'Sometimes family members of people with type 1 diabetes are tested for the presence of diabetes immune system cells (autoantibodies).', 'If you have these autoantibodies, you have an increased risk of developing type 1 diabetes.', 'But not everyone who has these autoantibodies develops diabetes.', 'Race or ethnicity also may raise your risk of developing type 2 diabetes.', \"Although it's unclear why, certain people — including Black, Hispanic, American Indian and Asian American people — are at higher risk.\", 'Prediabetes, type 2 diabetes and gestational diabetes are more common in people who are overweight or obese.', 'Complications\\n\\nLong-term complications of diabetes develop gradually.', 'The longer you have diabetes — and the less controlled your blood sugar — the higher the risk of complications.', 'Eventually, diabetes complications may be disabling or even life-threatening.', 'In fact, prediabetes can lead to type 2 diabetes.', 'Possible complications include:\\n\\nHeart and blood vessel (cardiovascular) disease.', 'Diabetes majorly increases the risk of many heart problems.', 'These can include coronary artery disease with chest pain (angina), heart attack, stroke and narrowing of arteries (atherosclerosis).', \"If you have diabetes, you're more likely to have heart disease or stroke.\", 'Diabetes majorly increases the risk of many heart problems.', 'These can include coronary artery disease with chest pain (angina), heart attack, stroke and narrowing of arteries (atherosclerosis).', \"If you have diabetes, you're more likely to have heart disease or stroke.\", 'Nerve damage from diabetes (diabetic neuropathy).', 'Too much sugar can injure the walls of the tiny blood vessels (capillaries) that nourish the nerves, especially in the legs.', 'This can cause tingling, numbness, burning or pain that usually begins at the tips of the toes or fingers and gradually spreads upward.', 'Damage to the nerves related to digestion can cause problems with nausea, vomiting, diarrhea or constipation.', 'For men, it may lead to erectile dysfunction.', 'Kidney damage from diabetes (diabetic nephropathy).', 'The kidneys hold millions of tiny blood vessel clusters (glomeruli) that filter waste from the blood.', 'Diabetes can damage this delicate filtering system.', 'The kidneys hold millions of tiny blood vessel clusters (glomeruli) that filter waste from the blood.', 'Diabetes can damage this delicate filtering system.', 'Eye damage from diabetes (diabetic retinopathy).', 'Diabetes can damage the blood vessels of the eye.', 'This could lead to blindness.', 'Diabetes can damage the blood vessels of the eye.', 'This could lead to blindness.', 'Foot damage.', 'Nerve damage in the feet or poor blood flow to the feet increases the risk of many foot complications.', 'Nerve damage in the feet or poor blood flow to the feet increases the risk of many foot complications.', 'Skin and mouth conditions.', 'Diabetes may leave you more prone to skin problems, including bacterial and fungal infections.', 'Diabetes may leave you more prone to skin problems, including bacterial and fungal infections.', 'Hearing impairment.', 'Hearing problems are more common in people with diabetes.', 'Hearing problems are more common in people with diabetes.', \"Alzheimer's disease.\", \"Type 2 diabetes may increase the risk of dementia, such as Alzheimer's disease.\", \"Type 2 diabetes may increase the risk of dementia, such as Alzheimer's disease.\", 'Depression related to diabetes.', 'Depression symptoms are common in people with type 1 and type 2 diabetes.', 'Complications of gestational diabetes\\n\\nMost women who have gestational diabetes deliver healthy babies.', 'However, untreated or uncontrolled blood sugar levels can cause problems for you and your baby.', 'Complications in your baby can be caused by gestational diabetes, including:\\n\\nExcess growth.', 'Extra glucose can cross the placenta.', \"Extra glucose triggers the baby's pancreas to make extra insulin.\", 'This can cause your baby to grow too large.', 'It can lead to a difficult birth and sometimes the need for a C-section.', 'Extra glucose can cross the placenta.', \"Extra glucose triggers the baby's pancreas to make extra insulin.\", 'This can cause your baby to grow too large.', 'It can lead to a difficult birth and sometimes the need for a C-section.', 'Low blood sugar.', 'Sometimes babies of mothers with gestational diabetes develop low blood sugar (hypoglycemia) shortly after birth.', 'This is because their own insulin production is high.', 'Sometimes babies of mothers with gestational diabetes develop low blood sugar (hypoglycemia) shortly after birth.', 'This is because their own insulin production is high.', 'Type 2 diabetes later in life.', 'Babies of mothers who have gestational diabetes have a higher risk of developing obesity and type 2 diabetes later in life.', 'Babies of mothers who have gestational diabetes have a higher risk of developing obesity and type 2 diabetes later in life.', 'Death.', \"Untreated gestational diabetes can lead to a baby's death either before or shortly after birth.\", 'Complications in the mother also can be caused by gestational diabetes, including:\\n\\nPreeclampsia.', 'Symptoms of this condition include high blood pressure, too much protein in the urine, and swelling in the legs and feet.', 'Symptoms of this condition include high blood pressure, too much protein in the urine, and swelling in the legs and feet.', 'Gestational diabetes.', \"If you had gestational diabetes in one pregnancy, you're more likely to have it again with the next pregnancy.\", \"Prevention\\n\\nType 1 diabetes can't be prevented.\", 'But the healthy lifestyle choices that help treat prediabetes, type 2 diabetes and gestational diabetes can also help prevent them:\\n\\nEat healthy foods.', 'Choose foods lower in fat and calories and higher in fiber.', 'Focus on fruits, vegetables and whole grains.', 'Eat a variety to keep from feeling bored.', 'Choose foods lower in fat and calories and higher in fiber.', 'Focus on fruits, vegetables and whole grains.', 'Eat a variety to keep from feeling bored.', 'Get more physical activity.', 'Try to get about 30 minutes of moderate aerobic activity on most days of the week.', 'Or aim to get at least 150 minutes of moderate aerobic activity a week.', 'For example, take a brisk daily walk.', \"If you can't fit in a long workout, break it up into smaller sessions throughout the day.\", 'Try to get about 30 minutes of moderate aerobic activity on most days of the week.', 'Or aim to get at least 150 minutes of moderate aerobic activity a week.', 'For example, take a brisk daily walk.', \"If you can't fit in a long workout, break it up into smaller sessions throughout the day.\", 'Lose excess pounds.', \"If you're overweight, losing even 7% of your body weight can lower the risk of diabetes.\", 'For example, if you weigh 200 pounds (90.7 kilograms), losing 14 pounds (6.4 kilograms) can lower the risk of diabetes.', \"But don't try to lose weight during pregnancy.\", 'Talk to your provider about how much weight is healthy for you to gain during pregnancy.', 'To keep your weight in a healthy range, work on long-term changes to your eating and exercise habits.', 'Remember the benefits of losing weight, such as a healthier heart, more energy and higher self-esteem.', 'Sometimes drugs are an option.', 'Oral diabetes drugs such as metformin (Glumetza, Fortamet, others) may lower the risk of type 2 diabetes.', 'But healthy lifestyle choices are important.', \"If you have prediabetes, have your blood sugar checked at least once a year to make sure you haven't developed type 2 diabetes.\"]\n"
          ]
        }
      ]
    },
    {
      "cell_type": "code",
      "metadata": {
        "id": "YMWYCMjMm5Yu"
      },
      "source": [
        "# A function to return a random greeting response to a users greeting\n",
        "def greeting_response(text):\n",
        "  text = text.lower()\n",
        "\n",
        "  # Bots greeting response\n",
        "  bot_greetings = ['howdy', 'hi', 'hey', 'hello', 'hola']\n",
        "  # Users greeting\n",
        "  user_greetings = ['hi', 'hey', 'hello', 'hola', 'greetings', 'wassup']\n",
        "\n",
        "\n",
        "  for word in text.split():\n",
        "    if word in user_greetings:\n",
        "      return random.choice(bot_greetings)"
      ],
      "execution_count": 23,
      "outputs": []
    },
    {
      "cell_type": "markdown",
      "source": [
        "\n",
        "\n",
        "    for word in text.split():\n",
        "        This line starts a loop that iterates over each word in the text string after splitting it using the split() method. The split() method separates the string into a list of words based on whitespace.\n",
        "\n",
        "    if word in user_greetings:\n",
        "        This line checks if the current word is present in the user_greetings list. It is checking if the user's input contains a word that is considered a greeting.\n",
        "\n",
        "    return random.choice(bot_greetings)\n",
        "        This line randomly selects a greeting message from the bot_greetings list and immediately returns it as the output of the function. The random.choice() function is used to choose a random element from a list.\n"
      ],
      "metadata": {
        "id": "XsE1L3MgNacn"
      }
    },
    {
      "cell_type": "code",
      "metadata": {
        "id": "w4FYCgOLsefe"
      },
      "source": [
        "def index_sort(list_var):\n",
        "  length = len(list_var)\n",
        "  list_index = list(range(0, length))\n",
        "\n",
        "  x = list_var\n",
        "  for i in range(length):\n",
        "    for j in range(length):\n",
        "      if x[list_index[i]] > x[list_index[j]]:\n",
        "        #Swap\n",
        "        temp = list_index[i]\n",
        "        list_index[i] = list_index[j]\n",
        "        list_index[j] = temp\n",
        "\n",
        "  return list_index"
      ],
      "execution_count": 24,
      "outputs": []
    },
    {
      "cell_type": "markdown",
      "source": [
        "\n",
        "\n",
        "    length = len(list_var)\n",
        "        This line calculates the length of the list_var list and assigns it to the variable length. The length represents the number of elements in the list.\n",
        "\n",
        "    list_index = list(range(0, length))\n",
        "        This line creates a new list called list_index using the range function. The range function generates a sequence of numbers from 0 to length-1. The list function is used to convert the range object to a list.\n",
        "\n",
        "    x = list_var\n",
        "        This line creates a new variable x and assigns it the same value as the list_var. This is done to avoid modifying the original list_var.\n",
        "\n",
        "    for i in range(length):\n",
        "        This line starts a loop that iterates over the indices from 0 to length-1. The loop variable i represents the current index.\n",
        "\n",
        "    for j in range(length):\n",
        "        This line starts a nested loop that also iterates over the indices from 0 to length-1. The loop variable j represents the current index.\n",
        "\n",
        "    if x[list_index[i]] > x[list_index[j]]:\n",
        "        This line compares the values at the indices list_index[i] and list_index[j] in the x list. If the value at list_index[i] is greater than the value at list_index[j], the condition is satisfied.\n",
        "\n",
        "    temp = list_index[i]\n",
        "        This line stores the value at list_index[i] in a temporary variable called temp. This is done to preserve the value before swapping it.\n",
        "\n",
        "    list_index[i] = list_index[j]\n",
        "        This line assigns the value at list_index[j] to list_index[i]. It effectively swaps the values of list_index[i] and list_index[j].\n",
        "\n",
        "    list_index[j] = temp\n",
        "        This line assigns the value stored in temp (which is the original value of list_index[i]) to list_index[j]. It completes the swapping process.\n",
        "\n",
        "    return list_index\n",
        "        This line returns the final list_index list as the output of the index_sort function. The list contains the indices sorted in descending order based on the corresponding values in list_var.\n"
      ],
      "metadata": {
        "id": "DDKdpOQQM3EO"
      }
    },
    {
      "cell_type": "code",
      "metadata": {
        "id": "V1v_sdV_v5xK"
      },
      "source": [
        "# Create the bots response\n",
        "def bot_response(user_input):\n",
        "  user_input = user_input.lower()\n",
        "  sentence_list.append(user_input)\n",
        "  bot_response = ''\n",
        "  cm = CountVectorizer().fit_transform(sentence_list)\n",
        "  similarity_scores = cosine_similarity(cm[-1], cm)\n",
        "  similarity_scores_list = similarity_scores.flatten()\n",
        "  index = index_sort(similarity_scores_list)\n",
        "  index = index[1:]\n",
        "  response_flag = 0\n",
        "\n",
        "  j = 0\n",
        "  for i in range(len(index)):\n",
        "    if similarity_scores_list[index[i]] > 0.0:\n",
        "      bot_response = bot_response+' '+sentence_list[index[i]]\n",
        "      response_flag = 1\n",
        "      j = j+1\n",
        "    if j > 2:\n",
        "      break\n",
        "\n",
        "  if response_flag == 0:\n",
        "    bot_response = bot_response+' '+\"I apologize, I don't understand.\"\n",
        "\n",
        "  sentence_list.remove(user_input)\n",
        "\n",
        "  return bot_response\n"
      ],
      "execution_count": 25,
      "outputs": []
    },
    {
      "cell_type": "markdown",
      "source": [
        "\n",
        "\n",
        "    user_input = user_input.lower()\n",
        "        This line converts the user_input to lowercase. This ensures that the input is case-insensitive and consistent for further processing.\n",
        "\n",
        "    sentence_list.append(user_input)\n",
        "        This line adds the user_input to the sentence_list. The sentence_list is a list that stores all the user inputs and bot responses.\n",
        "\n",
        "    bot_response = ''\n",
        "        This line initializes an empty string called bot_response. This string will be used to store the bot's response.\n",
        "\n",
        "    cm = CountVectorizer().fit_transform(sentence_list)\n",
        "        This line uses the CountVectorizer class from the sklearn.feature_extraction.text module to transform the sentence_list into a matrix of token counts. Each row in the matrix represents a sentence from the sentence_list, and each column represents a unique token in the sentences.\n",
        "\n",
        "    similarity_scores = cosine_similarity(cm[-1], cm)\n",
        "        This line calculates the cosine similarity between the last row of the cm matrix (which represents the current user input) and all the other rows (which represent previous user inputs and bot responses). The result is stored in the similarity_scores variable.\n",
        "\n",
        "    similarity_scores_list = similarity_scores.flatten()\n",
        "        This line flattens the similarity_scores matrix into a 1-dimensional array for easier manipulation and sorting.\n",
        "\n",
        "    index = index_sort(similarity_scores_list)\n",
        "        This line calls a function index_sort to obtain the indices that would sort the similarity_scores_list in descending order. The function returns the indices as a list, which is assigned to the index variable.\n",
        "\n",
        "    index = index[1:]\n",
        "        This line slices the index list to remove the first element. The first element corresponds to the similarity score between the current user input and itself, which will always be 1.0. Removing it ensures that the bot does not respond with the exact user input.\n",
        "\n",
        "    response_flag = 0\n",
        "        This line initializes a flag called response_flag to 0. This flag will be used to keep track of whether the bot has found a suitable response or not.\n",
        "\n",
        "    for i in range(len(index)):\n",
        "        This line starts a loop that iterates over the elements in the index list.\n",
        "\n",
        "    if similarity_scores_list[index[i]] > 0.0:\n",
        "        This line checks if the similarity score at the current index is greater than 0.0. This condition ensures that only sentences with a non-zero similarity score are considered as potential responses.\n",
        "\n",
        "    bot_response = bot_response + ' ' + sentence_list[index[i]]\n",
        "        This line appends the sentence at the current index to the bot_response string with a space in between. This builds the bot's response by concatenating similar sentences.\n",
        "\n",
        "    response_flag = 1\n",
        "        This line sets the response_flag to 1, indicating that a suitable response has been found.\n",
        "\n",
        "    j = j + 1\n",
        "        This line increments the value of j by 1. j keeps track of the number of sentences added to the bot_response.\n",
        "\n",
        "    if j > 2:\n",
        "        This line checks if j has exceeded 2. This condition limits the number of sentences added to the bot_response to a maximum of 2.\n",
        "\n",
        "    break\n",
        "        This line breaks out of the loop if the maximum number of sentences has been added to the bot_response.\n",
        "\n",
        "    if response_flag == 0:\n",
        "        This line checks if the response_flag is still 0 after the loop. This indicates that no suitable response has been found.\n",
        "\n",
        "    bot_response = bot_response + ' ' + \"I apologize, I don't understand.\"\n",
        "        This line appends an apology message to the bot_response string indicating that the bot does not understand the user's input.\n",
        "\n",
        "    sentence_list.remove(user_input)\n",
        "        This line removes the current user input from the sentence_list. This ensures that the bot does not consider the current input as a potential response in future interactions.\n",
        "\n",
        "    return bot_response\n",
        "        This line returns the final bot_response string as the output of the bot_response function.\n"
      ],
      "metadata": {
        "id": "-4HWY3UpMxy4"
      }
    },
    {
      "cell_type": "code",
      "metadata": {
        "colab": {
          "base_uri": "https://localhost:8080/"
        },
        "id": "9d2qA-4CENM7",
        "outputId": "6104b27b-6659-49cb-ba41-426a77a732b9"
      },
      "source": [
        "# Start the chat\n",
        "print('Doc Bot: I am Doctor Bot or Doc Bot for short. I will answer your queries about Chronic Kidney Disease. If you want to exit, type bye.')\n",
        "\n",
        "exit_list = ['exit', 'see you later', 'bye', 'quit', 'break']\n",
        "\n",
        "while(True):\n",
        "  user_input = input()\n",
        "  if user_input.lower() in exit_list:\n",
        "    print('Doc Bot: Chat with you later!')\n",
        "    break\n",
        "  else:\n",
        "    if greeting_response(user_input)   != None:\n",
        "      print('Doc Bot: '+greeting_response(user_input))\n",
        "    else:\n",
        "      print('Doc Bot: '+bot_response(user_input))"
      ],
      "execution_count": null,
      "outputs": [
        {
          "output_type": "stream",
          "name": "stdout",
          "text": [
            "Doc Bot: I am Doctor Bot or Doc Bot for short. I will answer your queries about Chronic Kidney Disease. If you want to exit, type bye.\n",
            "What is chronic kidney disease?\n",
            "Doc Bot:  Alzheimer's disease. It is unclear what those factors may be. This is because their own insulin production is high.\n",
            "What is insulin?\n",
            "Doc Bot:  This is because their own insulin production is high. This is because their own insulin production is high. How insulin works\n",
            "\n",
            "Insulin is a hormone that comes from a gland behind and below the stomach (pancreas).\n"
          ]
        }
      ]
    },
    {
      "cell_type": "markdown",
      "source": [
        "\n",
        "\n",
        "    print('Doc Bot: I am Doctor Bot or Doc Bot for short. I will answer your queries about Chronic Kidney Disease. If you want to exit, type bye.')\n",
        "        This line prints a message introducing the bot and explaining its purpose. It informs the user that the bot is called \"Doctor Bot\" or \"Doc Bot\" and it specializes in answering queries about Chronic Kidney Disease. It also instructs the user on how to exit the conversation by typing \"bye\".\n",
        "\n",
        "    exit_list = ['exit', 'see you later', 'bye', 'quit', 'break']\n",
        "        This line creates a list called exit_list that contains different keywords or phrases that a user can enter to indicate their desire to exit the conversation. The bot will check if the user's input matches any of these exit keywords.\n",
        "\n",
        "    while(True):\n",
        "        This line starts an infinite loop. The loop will continue running until a break statement is encountered. This allows the bot to keep interacting with the user until the user decides to exit.\n",
        "\n",
        "    user_input = input()\n",
        "        This line prompts the user to enter their input and assigns it to the variable user_input. The input() function waits for the user to enter something and press the Enter key.\n",
        "\n",
        "    if user_input.lower() in exit_list:\n",
        "        This line checks if the lowercase version of user_input exists in the exit_list. It converts user_input to lowercase to handle different cases of the exit keywords. If the user's input matches any of the exit keywords, the code inside this if block will be executed.\n",
        "\n",
        "    print('Doc Bot: Chat with you later!')\n",
        "        This line prints a farewell message to the user, indicating that the conversation is ending.\n",
        "\n",
        "    break\n",
        "        This line terminates the loop and exits the program. When the code reaches this point, it will break out of the infinite loop and the program will end.\n",
        "\n",
        "    else:\n",
        "        This line is part of an else statement, which means that if the condition in the preceding if statement is not met, the code block following the else statement will be executed.\n",
        "\n",
        "    if greeting_response(user_input) != None:\n",
        "        This line calls a function greeting_response with user_input as an argument. It checks if the returned value from the function is not None, indicating that a greeting was detected in the user's input.\n",
        "\n",
        "    print('Doc Bot: ' + greeting_response(user_input))\n",
        "        This line prints the greeting response generated by the greeting_response function. The bot's response is prefixed with 'Doc Bot: ' to indicate that it is the bot speaking.\n",
        "\n",
        "    else:\n",
        "        This line is part of another else statement, which means that if the condition in the preceding if statement is not met, the code block following the second else statement will be executed.\n",
        "\n",
        "    print('Doc Bot: ' + bot_response(user_input))\n",
        "        This line prints the response generated by the bot_response function. The bot's response is prefixed with 'Doc Bot: ' to indicate that it is the bot speaking.\n"
      ],
      "metadata": {
        "id": "9K8I9P5MMY7_"
      }
    },
    {
      "cell_type": "markdown",
      "source": [
        "\n",
        "\n",
        "    print('Doc Bot: I am Doctor Bot or Doc Bot for short. I will answer your queries about Chronic Kidney Disease. If you want to exit, type bye.')\n",
        "        This line prints a message introducing the bot and explaining its purpose. It also informs the user that they can type certain keywords to exit the conversation.\n",
        "\n",
        "    exit_list = ['exit', 'see you later', 'bye', 'quit', 'break']\n",
        "        This line creates a list called exit_list that contains different keywords or phrases that a user can enter to indicate their desire to exit the conversation.\n",
        "\n",
        "    while(True):\n",
        "        This line starts an infinite loop. The loop will continue running until a break statement is encountered.\n",
        "\n",
        "    user_input = input()\n",
        "        This line prompts the user to enter their input and assigns it to the variable user_input. The input() function waits for the user to enter something and press the Enter key.\n",
        "\n",
        "    if user_input.lower() in exit_list:\n",
        "        This line checks if the lowercase version of user_input exists in the exit_list. It converts user_input to lowercase to handle different cases of the exit keywords.\n",
        "\n",
        "    print('Doc Bot: Chat with you later!')\n",
        "        This line prints a farewell message to the user, indicating that the conversation is ending.\n",
        "\n",
        "    break\n",
        "        This line terminates the loop and exits the program.\n",
        "\n",
        "    else:\n",
        "        This line is part of an else statement, which means that if the condition in the preceding if statement is not met, the code block following the else statement will be executed.\n",
        "\n",
        "    if greeting_response(user_input) != None:\n",
        "        This line calls a function greeting_response with user_input as an argument. It checks if the returned value from the function is not None, indicating that a greeting was detected in the user's input.\n",
        "\n",
        "    print('Doc Bot: ' + greeting_response(user_input))\n",
        "        This line prints the greeting response generated by the greeting_response function. The bot's response is prefixed with 'Doc Bot: ' to indicate that it is the bot speaking.\n",
        "\n",
        "    else:\n",
        "        This line is part of another else statement, which means that if the condition in the preceding if statement is not met, the code block following the second else statement will be executed.\n",
        "\n",
        "    print('Doc Bot: ' + bot_response(user_input))\n",
        "        This line prints the response generated by the bot_response function. The bot's response is prefixed with 'Doc Bot: ' to indicate that it is the bot speaking.\n"
      ],
      "metadata": {
        "id": "wHfgLQNUJVwj"
      }
    },
    {
      "cell_type": "markdown",
      "source": [
        "\n",
        "\n",
        "    print('Doc Bot: I am Doctor Bot or Doc Bot for short. I will answer your queries about Chronic Kidney Disease. If you want to exit, type bye.')\n",
        "        This line prints a message introducing the bot and explaining its purpose. It also informs the user that they can type certain keywords to exit the conversation.\n",
        "\n",
        "    exit_list = ['exit', 'see you later', 'bye', 'quit', 'break']\n",
        "        This line creates a list called exit_list that contains different keywords or phrases that a user can enter to indicate their desire to exit the conversation.\n",
        "\n",
        "    while(True):\n",
        "        This line starts an infinite loop. The loop will continue running until a break statement is encountered.\n",
        "\n",
        "    user_input = input()\n",
        "        This line prompts the user to enter their input and assigns it to the variable user_input. The input() function waits for the user to enter something and press the Enter key.\n",
        "\n",
        "    if user_input.lower() in exit_list:\n",
        "        This line checks if the lowercase version of user_input exists in the exit_list. It converts user_input to lowercase to handle different cases of the exit keywords.\n",
        "\n",
        "    print('Doc Bot: Chat with you later!')\n",
        "        This line prints a farewell message to the user, indicating that the conversation is ending.\n",
        "\n",
        "    break\n",
        "        This line terminates the loop and exits the program.\n",
        "\n",
        "    else:\n",
        "        This line is part of an else statement, which means that if the condition in the preceding if statement is not met, the code block following the else statement will be executed.\n",
        "\n",
        "    if greeting_response(user_input) != None:\n",
        "        This line calls a function greeting_response with user_input as an argument. It checks if the returned value from the function is not None, indicating that a greeting was detected in the user's input.\n",
        "\n",
        "    print('Doc Bot: ' + greeting_response(user_input))\n",
        "        This line prints the greeting response generated by the greeting_response function. The bot's response is prefixed with 'Doc Bot: ' to indicate that it is the bot speaking.\n",
        "\n",
        "    else:\n",
        "        This line is part of another else statement, which means that if the condition in the preceding if statement is not met, the code block following the second else statement will be executed.\n",
        "\n",
        "    print('Doc Bot: ' + bot_response(user_input))\n",
        "        This line prints the response generated by the bot_response function. The bot's response is prefixed with 'Doc Bot: ' to indicate that it is the bot speaking.\n"
      ],
      "metadata": {
        "id": "s0xwblAhHjC5"
      }
    }
  ]
}