{
  "cells": [
    {
      "cell_type": "markdown",
      "metadata": {
        "id": "view-in-github",
        "colab_type": "text"
      },
      "source": [
        "<a href=\"https://colab.research.google.com/github/econ105/AI/blob/main/pizzachatbot.ipynb\" target=\"_parent\"><img src=\"https://colab.research.google.com/assets/colab-badge.svg\" alt=\"Open In Colab\"/></a>"
      ]
    },
    {
      "cell_type": "code",
      "execution_count": null,
      "id": "1f1c26d0-63d2-4b07-9422-480ad3388a09",
      "metadata": {
        "colab": {
          "base_uri": "https://localhost:8080/"
        },
        "id": "1f1c26d0-63d2-4b07-9422-480ad3388a09",
        "outputId": "53b21c8b-e825-4521-e7bd-c4dfaa8db5d1"
      },
      "outputs": [
        {
          "output_type": "stream",
          "name": "stdout",
          "text": [
            "Welcome to the pizza store! Please choose a pizza size:\n",
            "1. Large\n",
            "2. Medium\n",
            "3. Small\n",
            "Your choice: 1\n",
            "Please choose a pizza type:\n",
            "1. Pepperoni Pizza\n",
            "2. Cheese Pizza\n",
            "Your choice: 2\n",
            "Would you like any sides with your pizza?\n",
            "1. Fries\n",
            "2. Salad\n",
            "Your choice: 1\n",
            "Would you like a drink with your pizza?\n",
            "1. Cola\n",
            "2. Americano\n",
            "Your choice: 2\n",
            "Thanks for your ordering, your food is preparing rightnow and will be ready soon! Good appitate!\n"
          ]
        }
      ],
      "source": [
        "class PizzaBot:\n",
        "    def __init__(self):\n",
        "        self.menu = {\n",
        "            'pizzas': {\n",
        "                'Pepperoni Pizza': {'large': 12.95, 'medium': 10.00, 'small': 7.00},\n",
        "                'Cheese Pizza': {'large': 12.00, 'medium': 8.00, 'small': 6.00}\n",
        "            },\n",
        "            'sides': {\n",
        "                'Fries': {'large': 5.00, 'medium': 4.00, 'small': 3.00},\n",
        "                'Salad': {'large': 3.55, 'medium': 3.00, 'small': 2.00}\n",
        "            },\n",
        "            'toppings': {\n",
        "                'Mushroom': 1.00,\n",
        "                'BBQ Sauce': 0.50,\n",
        "                'Peppers': 0.20\n",
        "            },\n",
        "            'drinks': {\n",
        "                'Cola': {'large': 2.85, 'medium': 2.00, 'small': 1.50},\n",
        "                'Americano': {'large': 3.20, 'medium': 2.60, 'small': 2.00}\n",
        "            }\n",
        "        }\n",
        "    def ask_for_pizza_size(self):\n",
        "        print(\"Welcome to the pizza store! Please choose a pizza size:\")\n",
        "        print(\"1. Large\")\n",
        "        print(\"2. Medium\")\n",
        "        print(\"3. Small\")\n",
        "        choice = input(\"Your choice: \")\n",
        "        return choice\n",
        "\n",
        "    def ask_for_pizza_type(self):\n",
        "        print(\"Please choose a pizza type:\")\n",
        "        print(\"1. Pepperoni Pizza\")\n",
        "        print(\"2. Cheese Pizza\")\n",
        "        choice = input(\"Your choice: \")\n",
        "        return choice\n",
        "\n",
        "    def ask_for_sides(self):\n",
        "        print(\"Would you like any sides with your pizza?\")\n",
        "        print(\"1. Fries\")\n",
        "        print(\"2. Salad\")\n",
        "        choice = input(\"Your choice: \")\n",
        "        return choice\n",
        "\n",
        "    def ask_for_toppings(self):\n",
        "        print(\"Would you like any toppings on your pizza?\")\n",
        "        print(\"1. Mushroom\")\n",
        "        print(\"2. BBQ Sauce\")\n",
        "        print(\"3. Peppers\")\n",
        "        choice = input(\"Your choice: \")\n",
        "        return choice\n",
        "\n",
        "    def ask_for_drink(self):\n",
        "        print(\"Would you like a drink with your pizza?\")\n",
        "        print(\"1. Cola\")\n",
        "        print(\"2. Americano\")\n",
        "        choice = input(\"Your choice: \")\n",
        "        return choice\n",
        "\n",
        "    def end(self):\n",
        "        print(\"Thanks for your ordering, your food is preparing rightnow and will be ready soon! Good appitate!\")\n",
        "\n",
        "\n",
        "def main():\n",
        "    robot = PizzaBot()\n",
        "    robot.ask_for_pizza_size()\n",
        "\n",
        "    order_item = robot.ask_for_pizza_type()\n",
        "    order_slides = robot.ask_for_sides()\n",
        "    order_drinks = robot.ask_for_drink()\n",
        "\n",
        "\n",
        "    robot.end()\n",
        "\n",
        "if __name__ == \"__main__\":\n",
        "    main()"
      ]
    },
    {
      "cell_type": "markdown",
      "source": [
        "class PizzaBot:\n",
        "This line defines a class called PizzaBot. This class represents a pizza ordering bot.\n",
        "\n",
        "def __init__(self):\n",
        "\n",
        "In Python, the __init__ method is a special method that is automatically called when an object of a class is created. It is commonly used to initialize the attributes (or properties) of the object. In the context of an ordering bot, the __init__ method is used to initialize the initial state of the bot.\n",
        "\n",
        "In the provided code, the __init__ method of the PizzaBot class defines the initial state of the bot by initializing its menu attribute. The menu attribute is a dictionary that contains information about the available items on the menu, organized into different categories such as 'pizzas', 'sides', 'toppings', and 'drinks'. Each category contains specific items with their respective prices.\n",
        "\n",
        "\n",
        "\n",
        "    The 'pizzas' category contains two pizza types: 'Pepperoni Pizza' and 'Cheese Pizza'. Each pizza type has different prices based on their size. The prices are represented as a nested dictionary, where the keys are the sizes ('large', 'medium', 'small') and the values are the corresponding prices.\n",
        "\n",
        "    The 'sides' category contains two side options: 'Fries' and 'Salad'. Similar to pizzas, each side has different prices based on size.\n",
        "\n",
        "    The 'toppings' category contains three topping options: 'Mushroom', 'BBQ Sauce', and 'Peppers'. Toppings do not have different sizes, so the prices are directly associated with the toppings as individual values.\n",
        "\n",
        "    The 'drinks' category contains two drink options: 'Cola' and 'Americano'. Similar to pizzas and sides, each drink has different prices based on size.\n",
        "\n",
        "By initializing the menu attribute in the __init__ method, the PizzaBot object will have access to the menu data, allowing it to present the options to the user and retrieve the corresponding information when the user makes selections.\n",
        "\n",
        "Details about class can be found here: https://www.geeksforgeeks.org/python-classes-and-objects/\n",
        "Details about def and return:\n",
        "https://sites.pitt.edu/~naraehan/python3/user_defined_functions.html\n",
        "\n",
        "\n",
        "\n",
        "\n",
        "    "
      ],
      "metadata": {
        "id": "ISqKLTWAQfHL"
      },
      "id": "ISqKLTWAQfHL"
    },
    {
      "cell_type": "markdown",
      "source": [
        "In Python, the if __name__ == \"__main__\" block is used to check whether the current script is being executed as the main program or being imported as a module.\n",
        "\n",
        "When a Python module is imported into another script, the code within the module is executed. However, sometimes you may want to have certain code in the module that should only run when the module is run directly as the main program, and not when it is imported.\n",
        "\n",
        "The if __name__ == \"__main__\" condition allows you to specify which parts of the code should only be executed when the module is run directly.\n",
        "\n",
        "In the provided code, the if __name__ == \"__main__\" condition is used to check if the script is being run directly. If it is the main script being executed, the main() function is called.\n"
      ],
      "metadata": {
        "id": "zd6PIG_fQGEY"
      },
      "id": "zd6PIG_fQGEY"
    },
    {
      "cell_type": "code",
      "execution_count": null,
      "id": "73b8180f-ed00-4936-bfdb-986d8f127e27",
      "metadata": {
        "id": "73b8180f-ed00-4936-bfdb-986d8f127e27"
      },
      "outputs": [],
      "source": []
    }
  ],
  "metadata": {
    "kernelspec": {
      "display_name": "Python 3 (ipykernel)",
      "language": "python",
      "name": "python3"
    },
    "language_info": {
      "codemirror_mode": {
        "name": "ipython",
        "version": 3
      },
      "file_extension": ".py",
      "mimetype": "text/x-python",
      "name": "python",
      "nbconvert_exporter": "python",
      "pygments_lexer": "ipython3",
      "version": "3.11.5"
    },
    "colab": {
      "provenance": [],
      "include_colab_link": true
    }
  },
  "nbformat": 4,
  "nbformat_minor": 5
}