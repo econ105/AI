{
  "nbformat": 4,
  "nbformat_minor": 0,
  "metadata": {
    "colab": {
      "provenance": [],
      "authorship_tag": "ABX9TyPbR94rIdDL1r4Oo4yBtJYI",
      "include_colab_link": true
    },
    "kernelspec": {
      "name": "python3",
      "display_name": "Python 3"
    },
    "language_info": {
      "name": "python"
    }
  },
  "cells": [
    {
      "cell_type": "markdown",
      "metadata": {
        "id": "view-in-github",
        "colab_type": "text"
      },
      "source": [
        "<a href=\"https://colab.research.google.com/github/econ105/AI/blob/main/Introduction_to_Python.ipynb\" target=\"_parent\"><img src=\"https://colab.research.google.com/assets/colab-badge.svg\" alt=\"Open In Colab\"/></a>"
      ]
    },
    {
      "cell_type": "code",
      "source": [
        "# Python Calculator\n",
        "\n",
        "# Addition\n",
        "result = 5 + 3\n",
        "print(\"Addition:\", result)\n",
        "\n",
        "# Subtraction\n",
        "result = 10 - 4\n",
        "print(\"Subtraction:\", result)\n",
        "\n",
        "# Multiplication\n",
        "result = 6 * 3\n",
        "print(\"Multiplication:\", result)\n",
        "\n",
        "# Division\n",
        "result = 15 / 3\n",
        "print(\"Division:\", result)\n",
        "\n",
        "# Floor Division\n",
        "result = 17 // 4\n",
        "print(\"Floor Division:\", result)\n",
        "\n",
        "# Modulo\n",
        "result = 17 % 4\n",
        "print(\"Modulo:\", result)\n",
        "\n",
        "# Exponentiation\n",
        "result = 2 ** 5\n",
        "print(\"Exponentiation:\", result)"
      ],
      "metadata": {
        "id": "m7R54jHTWDGF",
        "colab": {
          "base_uri": "https://localhost:8080/"
        },
        "outputId": "116772ee-4257-46ff-a7b7-2a9d1306e1dd"
      },
      "execution_count": 23,
      "outputs": [
        {
          "output_type": "stream",
          "name": "stdout",
          "text": [
            "Addition: 8\n",
            "Subtraction: 6\n",
            "Multiplication: 18\n",
            "Division: 5.0\n",
            "Floor Division: 4\n",
            "Modulo: 1\n",
            "Exponentiation: 32\n"
          ]
        }
      ]
    },
    {
      "cell_type": "markdown",
      "source": [
        "\n",
        "\n",
        "    result = 5 + 3: This line performs addition and assigns the result to the variable result. In this case, it calculates the sum of 5 and 3.\n",
        "\n",
        "    print(\"Addition:\", result): This line prints the result of the addition operation to the console. The print() function is used to display the output. In this case, it prints the string \"Addition:\" followed by the value of result, which represents the sum.\n",
        "\n",
        "    result = 10 - 4: This line performs subtraction and assigns the result to the variable result. It calculates the difference between 10 and 4.\n",
        "\n",
        "    print(\"Subtraction:\", result): This line prints the result of the subtraction operation to the console. It prints the string \"Subtraction:\" followed by the value of result, which represents the difference.\n",
        "\n",
        "    result = 6 * 3: This line performs multiplication and assigns the result to the variable result. It calculates the product of 6 and 3.\n",
        "\n",
        "    print(\"Multiplication:\", result): This line prints the result of the multiplication operation to the console. It prints the string \"Multiplication:\" followed by the value of result, which represents the product.\n",
        "\n",
        "    result = 15 / 3: This line performs division and assigns the result to the variable result. It calculates the quotient of 15 divided by 3.\n",
        "\n",
        "    print(\"Division:\", result): This line prints the result of the division operation to the console. It prints the string \"Division:\" followed by the value of result, which represents the quotient.\n",
        "\n",
        "    result = 17 // 4: This line performs floor division and assigns the result to the variable result. It calculates the quotient of 17 divided by 4, discarding any decimal remainder.\n",
        "\n",
        "    print(\"Floor Division:\", result): This line prints the result of the floor division operation to the console. It prints the string \"Floor Division:\" followed by the value of result, which represents the quotient.\n",
        "\n",
        "    result = 17 % 4: This line performs modulo (remainder) operation and assigns the result to the variable result. It calculates the remainder when 17 is divided by 4.\n",
        "\n",
        "    print(\"Modulo:\", result): This line prints the result of the modulo operation to the console. It prints the string \"Modulo:\" followed by the value of result, which represents the remainder.\n",
        "\n",
        "    result = 2 ** 5: This line performs exponentiation and assigns the result to the variable result. It calculates 2 raised to the power of 5.\n",
        "\n",
        "    print(\"Exponentiation:\", result): This line prints the result of the exponentiation operation to the console. It prints the string \"Exponentiation:\" followed by the value of result, which represents the result of the exponentiation.\n",
        "\n",
        "Overall, this code demonstrates basic arithmetic operations in Python and prints the results to the console. It showcases addition, subtraction, multiplication, division, floor division, modulo, and exponentiation operations."
      ],
      "metadata": {
        "id": "BYoYgXYG_8Mb"
      }
    },
    {
      "cell_type": "code",
      "source": [
        "# Celsius to Fahrenheit Conversion\n",
        "\n",
        "celsius = float(input(\"Enter temperature in Celsius: \"))\n",
        "fahrenheit = (celsius * 9/5) + 32\n",
        "print(\"Temperature in Fahrenheit:\", fahrenheit)"
      ],
      "metadata": {
        "colab": {
          "base_uri": "https://localhost:8080/"
        },
        "id": "Nl9bYwKXVeQa",
        "outputId": "afce8d00-3cab-486d-adb7-226e3aa0e715"
      },
      "execution_count": 20,
      "outputs": [
        {
          "output_type": "stream",
          "name": "stdout",
          "text": [
            "Enter temperature in Celsius: 6\n",
            "Temperature in Fahrenheit: 42.8\n"
          ]
        }
      ]
    },
    {
      "cell_type": "markdown",
      "source": [
        "\n",
        "\n",
        "   Anything after # means these are note for the code only and will not run.\n",
        "    celsius = float(input(\"Enter temperature in Celsius: \")): This line prompts the user to enter a temperature in Celsius. The input() function is used to read the input from the user, and float() is used to convert the input to a floating-point number (a decimal number) to ensure that any decimal values can be correctly handled.\n",
        "\n",
        "    fahrenheit = (celsius * 9/5) + 32: This line calculates the equivalent temperature in Fahrenheit based on the input temperature in Celsius. The formula (celsius * 9/5) + 32 is used to convert Celsius to Fahrenheit. This formula multiplies the Celsius temperature by 9/5 and then adds 32 to get the Fahrenheit equivalent.\n",
        "\n",
        "    print(\"Temperature in Fahrenheit:\", fahrenheit): This line prints the calculated temperature in Fahrenheit to the console. The print() function is used to display the output, with the temperature value concatenated with the string \"Temperature in Fahrenheit:\". The value of fahrenheit is displayed after the colon.\n"
      ],
      "metadata": {
        "id": "3fQRcXeU_ghq"
      }
    },
    {
      "cell_type": "code",
      "source": [
        "# Area of a Triangle\n",
        "\n",
        "base = float(input(\"Enter the base of the triangle: \"))\n",
        "height = float(input(\"Enter the height of the triangle: \"))\n",
        "area = 0.5 * base * height\n",
        "print(\"Area of the triangle:\", area)"
      ],
      "metadata": {
        "id": "c2TTK54OVrrU",
        "colab": {
          "base_uri": "https://localhost:8080/"
        },
        "outputId": "6598692b-6989-4fa4-f11f-d7ba9ac196ad"
      },
      "execution_count": 21,
      "outputs": [
        {
          "output_type": "stream",
          "name": "stdout",
          "text": [
            "Enter the base of the triangle: 8\n",
            "Enter the height of the triangle: 10\n",
            "Area of the triangle: 40.0\n"
          ]
        }
      ]
    },
    {
      "cell_type": "code",
      "source": [
        "# Scatter Plot\n",
        "\n",
        "import matplotlib.pyplot as plt #use matplotlib package\n",
        "\n",
        "x = [1, 2, 3, 4, 5]\n",
        "y = [2, 4, 6, 8, 10]\n",
        "\n",
        "plt.scatter(x, y)\n",
        "plt.xlabel('X')\n",
        "plt.ylabel('Y')\n",
        "plt.title('Scatter Plot')\n",
        "plt.show()"
      ],
      "metadata": {
        "id": "8ZOt8F_BYPqU",
        "colab": {
          "base_uri": "https://localhost:8080/",
          "height": 472
        },
        "outputId": "673c2d9c-d6d0-4778-8919-0cf1e88b4a74"
      },
      "execution_count": 22,
      "outputs": [
        {
          "output_type": "display_data",
          "data": {
            "text/plain": [
              "<Figure size 640x480 with 1 Axes>"
            ],
            "image/png": "[encoded data removed]"
          },
          "metadata": {}
        }
      ]
    },
    {
      "cell_type": "code",
      "source": [
        "# Bar Chart\n",
        "\n",
        "import matplotlib.pyplot as plt\n",
        "\n",
        "categories = ['Category A', 'Category B', 'Category C', 'Category D']\n",
        "values = [10, 20, 15, 12]\n",
        "\n",
        "plt.bar(categories, values)\n",
        "plt.xlabel('Categories')\n",
        "plt.ylabel('Values')\n",
        "plt.title('Bar Chart')\n",
        "plt.show()"
      ],
      "metadata": {
        "id": "h4jTidkgYaJd",
        "colab": {
          "base_uri": "https://localhost:8080/",
          "height": 472
        },
        "outputId": "e413bdbb-9727-4319-c0fb-dcbe13d198d6"
      },
      "execution_count": 5,
      "outputs": [
        {
          "output_type": "display_data",
          "data": {
            "text/plain": [
              "<Figure size 640x480 with 1 Axes>"
            ],
            "image/png": "[encoded data removed]"
          },
          "metadata": {}
        }
      ]
    },
    {
      "cell_type": "code",
      "source": [
        "import matplotlib.pyplot as plt\n",
        "\n",
        "# Data for the pie chart\n",
        "labels = ['Apples', 'Bananas', 'Oranges', 'Mangoes']\n",
        "sizes = [30, 25, 20, 15]\n",
        "colors = ['red', 'yellow', 'orange', 'green']\n",
        "\n",
        "# Create the pie chart\n",
        "plt.pie(sizes, labels=labels, colors=colors, autopct='%1.1f%%')\n",
        "\n",
        "# Add a title\n",
        "plt.title(\"Fruit Distribution\")\n",
        "\n",
        "# Display the chart\n",
        "plt.show()"
      ],
      "metadata": {
        "id": "j2WhMMoHZ4Vl",
        "colab": {
          "base_uri": "https://localhost:8080/",
          "height": 428
        },
        "outputId": "44d8af91-9283-4dd2-ba1a-21641636a595"
      },
      "execution_count": 6,
      "outputs": [
        {
          "output_type": "display_data",
          "data": {
            "text/plain": [
              "<Figure size 640x480 with 1 Axes>"
            ],
            "image/png": "[encoded data removed]"
          },
          "metadata": {}
        }
      ]
    },
    {
      "cell_type": "markdown",
      "source": [
        "Explanation:\n",
        "\n",
        "    First, import the matplotlib.pyplot module as plt. This module provides functions for creating various types of plots.\n",
        "\n",
        "    Define the data for the pie chart, including the labels, sizes, and colors lists. Each label represents a category, each size represents the proportion or value for that category, and each color represents the color of the corresponding pie slice.\n",
        "\n",
        "    Use the plt.pie() function to create the pie chart. Pass the sizes list as the data, labels as the category labels, colors as the colors for each slice, and autopct='%1.1f%%' to display the percentage of each slice on the chart.\n",
        "\n",
        "    Add a title to the chart using the plt.title() function.\n",
        "\n",
        "    Finally, display the chart using plt.show().\n",
        "\n",
        "You can customize the chart further by modifying the labels, sizes, and colors according to your specific data.\n",
        "\n"
      ],
      "metadata": {
        "id": "d81ugGmfZ7Fm"
      }
    },
    {
      "cell_type": "code",
      "source": [
        "# Calculate Mean and Median\n",
        "\n",
        "from statistics import mean, median\n",
        "\n",
        "numbers = [12, 15, 10, 8, 14, 16, 13, 11]\n",
        "mean_value = mean(numbers)\n",
        "median_value = median(numbers)\n",
        "\n",
        "print(\"Mean:\", mean_value)\n",
        "print(\"Median:\", median_value)"
      ],
      "metadata": {
        "id": "Y059Kem1Yc0_",
        "colab": {
          "base_uri": "https://localhost:8080/"
        },
        "outputId": "08727db7-39ba-433e-bb7b-9040961328dc"
      },
      "execution_count": 7,
      "outputs": [
        {
          "output_type": "stream",
          "name": "stdout",
          "text": [
            "Mean: 12.375\n",
            "Median: 12.5\n"
          ]
        }
      ]
    },
    {
      "cell_type": "code",
      "source": [
        "# Calculate Compound Interest\n",
        "\n",
        "principal = float(input(\"Enter the principal amount: \"))\n",
        "rate = float(input(\"Enter the annual interest rate: \"))\n",
        "time = float(input(\"Enter the time period in years: \"))\n",
        "\n",
        "compound_interest = principal * ((1 + rate/100) ** time)\n",
        "print(\"Compound Interest:\", compound_interest)"
      ],
      "metadata": {
        "id": "hI3uCjGSYseJ",
        "colab": {
          "base_uri": "https://localhost:8080/"
        },
        "outputId": "160507bf-1433-406b-8b97-a5d3223ba614"
      },
      "execution_count": 8,
      "outputs": [
        {
          "output_type": "stream",
          "name": "stdout",
          "text": [
            "Enter the principal amount: 1000\n",
            "Enter the annual interest rate: 5\n",
            "Enter the time period in years: 5\n",
            "Compound Interest: 1276.2815625000003\n"
          ]
        }
      ]
    },
    {
      "cell_type": "code",
      "source": [
        "# Generate a Random Number\n",
        "\n",
        "import random\n",
        "\n",
        "random_number = random.randint(1, 10)\n",
        "print(\"Random number:\", random_number)"
      ],
      "metadata": {
        "id": "5JFFACiJY2YS",
        "colab": {
          "base_uri": "https://localhost:8080/"
        },
        "outputId": "108ee1bf-938d-483f-88d3-b8e25383db37"
      },
      "execution_count": 9,
      "outputs": [
        {
          "output_type": "stream",
          "name": "stdout",
          "text": [
            "Random number: 5\n"
          ]
        }
      ]
    },
    {
      "cell_type": "code",
      "source": [
        "# Calculate BMI (Body Mass Index)\n",
        "\n",
        "weight = float(input(\"Enter weight in kilograms: \"))\n",
        "height = float(input(\"Enter height in meters: \"))\n",
        "\n",
        "bmi = weight / (height ** 2)\n",
        "print(\"BMI:\", bmi)"
      ],
      "metadata": {
        "id": "kL6um-YEZbk1",
        "colab": {
          "base_uri": "https://localhost:8080/"
        },
        "outputId": "ef9ec390-729e-461b-cb02-a6873d7b2ec5"
      },
      "execution_count": 10,
      "outputs": [
        {
          "output_type": "stream",
          "name": "stdout",
          "text": [
            "Enter weight in kilograms: 20\n",
            "Enter height in meters: 8\n",
            "BMI: 0.3125\n"
          ]
        }
      ]
    },
    {
      "cell_type": "code",
      "source": [
        "# Sum of Digits\n",
        "\n",
        "num = int(input(\"Enter a number: \"))\n",
        "sum_of_digits = 0\n",
        "\n",
        "while num > 0:\n",
        "    digit = num % 10\n",
        "    sum_of_digits += digit\n",
        "    num //= 10\n",
        "\n",
        "print(\"Sum of Digits:\", sum_of_digits)"
      ],
      "metadata": {
        "id": "PNKJigQ-W-Es",
        "colab": {
          "base_uri": "https://localhost:8080/"
        },
        "outputId": "67263cb1-a30a-47bc-c232-22d4c96711c5"
      },
      "execution_count": 11,
      "outputs": [
        {
          "output_type": "stream",
          "name": "stdout",
          "text": [
            "Enter a number: 78\n",
            "Sum of Digits: 15\n"
          ]
        }
      ]
    },
    {
      "cell_type": "code",
      "source": [
        "# Example 9: Count Vowels in a String\n",
        "\n",
        "string = input(\"Enter a string: \")\n",
        "vowels = \"aeiou\"\n",
        "count = 0\n",
        "\n",
        "for char in string:\n",
        "    if char.lower() in vowels:\n",
        "        count += 1\n",
        "\n",
        "print(\"Number of vowels in the string:\", count)"
      ],
      "metadata": {
        "id": "QnmzoOfCZm0p",
        "colab": {
          "base_uri": "https://localhost:8080/"
        },
        "outputId": "57e81c6e-4e1f-4aed-fb94-e27b0aecfd75"
      },
      "execution_count": 12,
      "outputs": [
        {
          "output_type": "stream",
          "name": "stdout",
          "text": [
            "Enter a string: apple\n",
            "Number of vowels in the string: 2\n"
          ]
        }
      ]
    },
    {
      "cell_type": "code",
      "source": [
        "# Leap Year Check\n",
        "\n",
        "year = int(input(\"Enter a year: \"))\n",
        "\n",
        "if (year % 4 == 0 and year % 100 != 0) or (year % 400 == 0):\n",
        "    print(year, \"is a leap year\")\n",
        "else:\n",
        "    print(year, \"is not a leap year\")"
      ],
      "metadata": {
        "id": "qghpXtj-XDdm",
        "colab": {
          "base_uri": "https://localhost:8080/"
        },
        "outputId": "19504e1f-086d-4097-fed4-a4109665b63e"
      },
      "execution_count": 13,
      "outputs": [
        {
          "output_type": "stream",
          "name": "stdout",
          "text": [
            "Enter a year: 2021\n",
            "2021 is not a leap year\n"
          ]
        }
      ]
    },
    {
      "cell_type": "markdown",
      "source": [
        "\n",
        "\n",
        "    year = int(input(\"Enter a year: \"))\n",
        "        This line prompts the user to enter a year and stores the input in a variable called year.\n",
        "        input(\"Enter a year: \") displays the message \"Enter a year: \" and waits for the user to provide an input.\n",
        "        int() is used to convert the user's input (which is a string by default) into an integer.\n",
        "\n",
        "    if (year % 4 == 0 and year % 100 != 0) or (year % 400 == 0):\n",
        "        This line begins an if statement to check whether the year is a leap year.\n",
        "        (year % 4 == 0 and year % 100 != 0) checks if the year is divisible by 4 but not divisible by 100.\n",
        "        (year % 400 == 0) checks if the year is divisible by 400.\n",
        "        The or operator combines these two conditions, meaning that if either condition is true, the year is considered a leap year.\n",
        "\n",
        "    print(year, \"is a leap year\")\n",
        "        If the condition in the if statement is true, this line is executed.\n",
        "        It prints a message indicating that the year is a leap year.\n",
        "        The year variable and the string \"is a leap year\" are concatenated using a comma.\n",
        "\n",
        "    else:\n",
        "        If the condition in the if statement is false, this line is executed.\n",
        "        It indicates that the year is not a leap year.\n",
        "\n",
        "    print(year, \"is not a leap year\")\n",
        "        This line is executed if the condition in the if statement is false.\n",
        "        It prints a message indicating that the year is not a leap year.\n",
        "        The year variable and the string \"is not a leap year\" are concatenated using a comma.\n",
        "\n",
        "In summary, this code takes a user input for a year and checks if it is a leap year. A year is considered a leap year if it is divisible by 4 but not divisible by 100, or if it is divisible by 400. The code then prints a message indicating whether the year is a leap year or not."
      ],
      "metadata": {
        "id": "NaKsRjEoXVEm"
      }
    },
    {
      "cell_type": "markdown",
      "source": [
        "\n",
        "\n",
        "    n = int(input(\"Enter a positive integer: \"))\n",
        "        This line prompts the user to enter a positive integer and stores the input in a variable called n.\n",
        "        input(\"Enter a positive integer: \") displays the message \"Enter a positive integer: \" and waits for the user to provide an input.\n",
        "        int() is used to convert the user's input (which is a string by default) into an integer.\n",
        "\n",
        "    sum_of_numbers = 0\n",
        "        This line initializes a variable called sum_of_numbers with an initial value of 0.\n",
        "        This variable will store the sum of all the natural numbers up to the input number n.\n",
        "\n",
        "    if n < 0:\n",
        "        This line begins an if statement to check if the input number n is less than 0.\n",
        "        If the condition is true, it means that the input is not a positive integer.\n",
        "\n",
        "    print(\"Enter a positive integer\")\n",
        "        If the condition in the if statement is true, this line is executed.\n",
        "        It prints a message asking the user to enter a positive integer.\n",
        "\n",
        "    else:\n",
        "        If the condition in the if statement is false, this line is executed.\n",
        "        It means that the input number n is a positive integer.\n",
        "\n",
        "    for i in range(1, n + 1):\n",
        "        This line starts a for loop that iterates through a range of numbers from 1 to n (inclusive).\n",
        "        The loop variable i takes each value in the specified range.\n",
        "\n",
        "    sum_of_numbers += i\n",
        "        This line adds the value of i to the sum_of_numbers variable in each iteration of the loop.\n",
        "        It accumulates the sum of all the numbers from 1 to n.\n",
        "\n",
        "    print(\"Sum of natural numbers up to\", n, \"is\", sum_of_numbers)\n",
        "        This line is executed after the loop finishes iterating.\n",
        "        It prints a message that indicates the sum of natural numbers up to the input number n.\n",
        "        The n and sum_of_numbers variables are concatenated with the message using commas.\n",
        "\n",
        "In summary, this code takes a positive integer input from the user and calculates the sum of all the natural numbers up to that input number. If the input is not a positive integer (i.e., less than 0), it displays an error message. Otherwise, it calculates the sum using a loop and prints the result."
      ],
      "metadata": {
        "id": "QxdhK1z6X1R-"
      }
    },
    {
      "cell_type": "code",
      "source": [
        "# Check if a Number is Prime\n",
        "\n",
        "num = int(input(\"Enter a number: \"))\n",
        "\n",
        "if num > 1:\n",
        "    for i in range(2, num):\n",
        "        if (num % i) == 0:\n",
        "            print(num, \"is not a prime number\")\n",
        "            break\n",
        "    else:\n",
        "        print(num, \"is a prime number\")\n",
        "else:\n",
        "    print(num, \"is not a prime number\")"
      ],
      "metadata": {
        "id": "9YpHMYrqWds_",
        "colab": {
          "base_uri": "https://localhost:8080/"
        },
        "outputId": "3342f6bf-5028-407c-af96-fb6c0a065d09"
      },
      "execution_count": 15,
      "outputs": [
        {
          "output_type": "stream",
          "name": "stdout",
          "text": [
            "Enter a number: 7\n",
            "7 is a prime number\n"
          ]
        }
      ]
    },
    {
      "cell_type": "markdown",
      "source": [
        "\n",
        "    The user is prompted to enter a number.\n",
        "    The input is converted to an integer and stored in the variable num.\n",
        "    The code checks if the number is greater than 1.\n",
        "    If the number is greater than 1, a loop is executed from 2 to num - 1.\n",
        "    If any number within the range divides num without leaving a remainder, it is not a prime number. The code prints a message indicating that the number is not prime and breaks the loop.\n",
        "    If none of the numbers within the range divide num without leaving a remainder, it is a prime number. The code prints a message indicating that the number is prime.\n",
        "    If the number is less than or equal to 1, it is not a prime number. The code prints a message indicating that the number is not prime.\n"
      ],
      "metadata": {
        "id": "MMxugKOcWgny"
      }
    }
  ]
}