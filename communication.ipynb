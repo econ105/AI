{
  "nbformat": 4,
  "nbformat_minor": 0,
  "metadata": {
    "colab": {
      "provenance": [],
      "include_colab_link": true
    },
    "kernelspec": {
      "name": "python3",
      "display_name": "Python 3"
    },
    "language_info": {
      "name": "python"
    }
  },
  "cells": [
    {
      "cell_type": "markdown",
      "metadata": {
        "id": "view-in-github",
        "colab_type": "text"
      },
      "source": [
        "<a href=\"https://colab.research.google.com/github/econ105/AI/blob/main/communication.ipynb\" target=\"_parent\"><img src=\"https://colab.research.google.com/assets/colab-badge.svg\" alt=\"Open In Colab\"/></a>"
      ]
    },
    {
      "cell_type": "code",
      "execution_count": null,
      "metadata": {
        "colab": {
          "base_uri": "https://localhost:8080/"
        },
        "id": "mOxVN68Ldsbk",
        "outputId": "f5258824-adf5-4e35-fed4-e1145db0b2cd"
      },
      "outputs": [
        {
          "output_type": "stream",
          "name": "stdout",
          "text": [
            "Long ago there was a boy who decided to become a knight.\n",
            "野比のび太 found herself in a small city where he grew up.\n",
            "He had to get a sword first to fight monsters for saving 靜香\n",
            "[He could go west]\n",
            "And he lived happily ever after.\n",
            "The End\n",
            "\n",
            "\n",
            "Long ago there was a boy who decided to become a knight.\n",
            "野比のび太 found herself in a small city where he grew up.\n",
            "He had to get a sword first to fight monsters for saving 靜香\n",
            "[He could go east]\n",
            "Finally he died painfully.\n",
            "The End\n",
            "\n",
            "\n"
          ]
        }
      ],
      "source": [
        "# Create a CFG\n",
        "from nltk import CFG\n",
        "from nltk.parse.generate import generate\n",
        "grammar = CFG.fromstring(\"\"\"\n",
        "Story -> Introduction MainQuest End\n",
        "LocationInfo -> '野比のび太 found herself in a small city where he grew up.'\n",
        "Introduction -> 'Long ago there was a boy who decided to become a knight.'\n",
        "\n",
        "MainQuest -> LocationInfo 'He had to get a sword first to fight monsters for saving 靜香' Navigate\n",
        "\n",
        "Navigate -> '[He could go west]' GoodEnd | '[He could go east]' BadEnd\n",
        "GoodEnd -> 'And he lived happily ever after.'\n",
        "BadEnd -> 'Finally he died painfully.'\n",
        "End -> 'The End'\n",
        "\"\"\")\n",
        "\n",
        "#print(grammar.start())\n",
        "#print(grammar.productions())\n",
        "for sentence in generate(grammar, n=2):\n",
        "    print('\\n'.join(sentence))\n",
        "    print('\\n')"
      ]
    }
  ]
}