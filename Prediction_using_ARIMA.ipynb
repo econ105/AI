{
  "nbformat": 4,
  "nbformat_minor": 0,
  "metadata": {
    "colab": {
      "provenance": [],
      "authorship_tag": "ABX9TyMHitHQmkdWR35GbSsfUqrF",
      "include_colab_link": true
    },
    "kernelspec": {
      "name": "python3",
      "display_name": "Python 3"
    },
    "language_info": {
      "name": "python"
    }
  },
  "cells": [
    {
      "cell_type": "markdown",
      "metadata": {
        "id": "view-in-github",
        "colab_type": "text"
      },
      "source": [
        "<a href=\"https://colab.research.google.com/github/econ105/AI/blob/main/Prediction_using_ARIMA.ipynb\" target=\"_parent\"><img src=\"https://colab.research.google.com/assets/colab-badge.svg\" alt=\"Open In Colab\"/></a>"
      ]
    },
    {
      "cell_type": "code",
      "execution_count": 1,
      "metadata": {
        "id": "cncLeXAqe3C0"
      },
      "outputs": [],
      "source": [
        "import pandas as pd\n",
        "from statsmodels.tsa.arima.model import ARIMA\n",
        "\n",
        "# Load the dataset Hang Seng Bank Stock data on 22 Jan 2024\n",
        "data = pd.DataFrame({\n",
        "    'Date': ['Jan 22, 2024', 'Jan 19, 2024', 'Jan 18, 2024', 'Jan 17, 2024', 'Jan 16, 2024', 'Jan 15, 2024', 'Jan 12, 2024', 'Jan 11, 2024', 'Jan 10, 2024', 'Jan 09, 2024', 'Jan 08, 2024', 'Jan 05, 2024', 'Jan 04, 2024', 'Jan 03, 2024', 'Jan 02, 2024', 'Dec 29, 2023', 'Dec 28, 2023', 'Dec 27, 2023', 'Dec 22, 2023'],\n",
        "    'Open': [82.500, 83.500, 82.250, 83.200, 85.600, 85.450, 86.200, 85.450, 86.500, 86.800, 87.350, 87.350, 87.550, 88.450, 91.250, 91.500, 90.400, 89.200, 87.800],\n",
        "    'High': [82.500, 84.400, 83.500, 83.200, 85.650, 85.450, 86.200, 86.550, 86.550, 87.650, 87.950, 88.500, 87.750, 88.900, 91.250, 92.000, 91.500, 90.250, 89.500],\n",
        "    'Low': [78.850, 82.150, 80.700, 81.350, 81.250, 85.450, 84.600, 84.650, 84.900, 86.500, 86.450, 86.850, 86.400, 86.750, 87.650, 90.250, 89.200, 88.400, 86.850],\n",
        "    'Close*': [79.250, 82.500, 83.300, 81.500, 83.250, 85.450, 85.450, 86.250, 85.450, 86.500, 86.800, 87.300, 87.350, 87.900, 88.500, 91.050, 91.500, 90.000, 89.200],\n",
        "    'Adj Close**': [79.250, 82.500, 83.300, 81.500, 83.250, 85.450, 85.450, 86.250, 85.450, 86.500, 86.800, 87.300, 87.350, 87.900, 88.500, 91.050, 91.500, 90.000, 89.200],\n",
        "    'Volume': ['2,201,636', '1,384,820', '2,432,394', '2,046,396', '3,421,388', '-', '1,743,907', '726,415', '1,198,206', '828,137', '770,884', '592,244', '1,191,103', '758,024', '1,567,081', '846,893', '1,231,335', '946,379', '1,271,285']\n",
        "})\n",
        "\n",
        "# Preprocess the data\n",
        "data['Date'] = pd.to_datetime(data['Date'])\n",
        "data.set_index('Date', inplace=True)"
      ]
    },
    {
      "cell_type": "code",
      "source": [
        "# Fit the ARIMA model\n",
        "model = ARIMA(data['Open'], order=(1, 1, 1))\n",
        "model_fit = model.fit()\n",
        "\n",
        "# Generate predictions\n",
        "predictions = model_fit.predict(start=len(data), end=len(data) + 10)  # Predicting the next 10 days"
      ],
      "metadata": {
        "colab": {
          "base_uri": "https://localhost:8080/"
        },
        "id": "cTqiv4DbfVwB",
        "outputId": "f7cf9538-ddb0-47d5-8e2e-84c35bc24c75"
      },
      "execution_count": 2,
      "outputs": [
        {
          "output_type": "stream",
          "name": "stderr",
          "text": [
            "/usr/local/lib/python3.10/dist-packages/statsmodels/tsa/base/tsa_model.py:473: ValueWarning: A date index has been provided, but it has no associated frequency information and so will be ignored when e.g. forecasting.\n",
            "  self._init_dates(dates, freq)\n",
            "/usr/local/lib/python3.10/dist-packages/statsmodels/tsa/base/tsa_model.py:473: ValueWarning: A date index has been provided, but it is not monotonic and so will be ignored when e.g. forecasting.\n",
            "  self._init_dates(dates, freq)\n",
            "/usr/local/lib/python3.10/dist-packages/statsmodels/tsa/base/tsa_model.py:473: ValueWarning: A date index has been provided, but it has no associated frequency information and so will be ignored when e.g. forecasting.\n",
            "  self._init_dates(dates, freq)\n",
            "/usr/local/lib/python3.10/dist-packages/statsmodels/tsa/base/tsa_model.py:473: ValueWarning: A date index has been provided, but it is not monotonic and so will be ignored when e.g. forecasting.\n",
            "  self._init_dates(dates, freq)\n",
            "/usr/local/lib/python3.10/dist-packages/statsmodels/tsa/base/tsa_model.py:473: ValueWarning: A date index has been provided, but it has no associated frequency information and so will be ignored when e.g. forecasting.\n",
            "  self._init_dates(dates, freq)\n",
            "/usr/local/lib/python3.10/dist-packages/statsmodels/tsa/base/tsa_model.py:473: ValueWarning: A date index has been provided, but it is not monotonic and so will be ignored when e.g. forecasting.\n",
            "  self._init_dates(dates, freq)\n",
            "/usr/local/lib/python3.10/dist-packages/statsmodels/tsa/base/tsa_model.py:836: ValueWarning: No supported index is available. Prediction results will be given with an integer index beginning at `start`.\n",
            "  return get_prediction_index(\n",
            "/usr/local/lib/python3.10/dist-packages/statsmodels/tsa/base/tsa_model.py:836: FutureWarning: No supported index is available. In the next version, calling this method in a model without a supported index will result in an exception.\n",
            "  return get_prediction_index(\n"
          ]
        }
      ]
    },
    {
      "cell_type": "code",
      "source": [
        "print(\"Predicted Open values:\")\n",
        "print(predictions)"
      ],
      "metadata": {
        "colab": {
          "base_uri": "https://localhost:8080/"
        },
        "id": "gKQsmoPZfbZ1",
        "outputId": "3d944ef4-60f4-432f-abf1-9f101f5e5fba"
      },
      "execution_count": 3,
      "outputs": [
        {
          "output_type": "stream",
          "name": "stdout",
          "text": [
            "Predicted Open values:\n",
            "19    87.542987\n",
            "20    87.520838\n",
            "21    87.518929\n",
            "22    87.518765\n",
            "23    87.518751\n",
            "24    87.518749\n",
            "25    87.518749\n",
            "26    87.518749\n",
            "27    87.518749\n",
            "28    87.518749\n",
            "29    87.518749\n",
            "Name: predicted_mean, dtype: float64\n"
          ]
        }
      ]
    }
  ]
}