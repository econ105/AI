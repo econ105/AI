{
  "nbformat": 4,
  "nbformat_minor": 0,
  "metadata": {
    "colab": {
      "provenance": [],
      "include_colab_link": true
    },
    "kernelspec": {
      "name": "python3",
      "display_name": "Python 3"
    },
    "language_info": {
      "name": "python"
    }
  },
  "cells": [
    {
      "cell_type": "markdown",
      "metadata": {
        "id": "view-in-github",
        "colab_type": "text"
      },
      "source": [
        "<a href=\"https://colab.research.google.com/github/econ105/AI/blob/main/snownlp3.ipynb\" target=\"_parent\"><img src=\"https://colab.research.google.com/assets/colab-badge.svg\" alt=\"Open In Colab\"/></a>"
      ]
    },
    {
      "cell_type": "code",
      "execution_count": null,
      "metadata": {
        "colab": {
          "base_uri": "https://localhost:8080/"
        },
        "id": "erJtKNRkWYaP",
        "outputId": "fc148928-f9f5-48c5-c1e7-146a6782bd36"
      },
      "outputs": [
        {
          "output_type": "stream",
          "name": "stdout",
          "text": [
            "Requirement already satisfied: snownlp in /usr/local/lib/python3.10/dist-packages (0.12.3)\n"
          ]
        }
      ],
      "source": [
        "pip install snownlp"
      ]
    },
    {
      "cell_type": "code",
      "source": [
        "import pandas as pd\n",
        "from snownlp import SnowNLP"
      ],
      "metadata": {
        "id": "UfGHaYHNX6Iv"
      },
      "execution_count": null,
      "outputs": []
    },
    {
      "cell_type": "code",
      "source": [
        "df = pd.read_excel('/content/corpus.xlsx')"
      ],
      "metadata": {
        "id": "vrWg0KDnX9Oo"
      },
      "execution_count": null,
      "outputs": []
    },
    {
      "cell_type": "code",
      "source": [
        "def sentiment_analysis(text):\n",
        "    s = SnowNLP(text)\n",
        "    return s.sentiments\n",
        "\n",
        "# 对第三列进行情感分析， to make sentiment analysis based on the third column\n",
        "df['Sentiment'] = df.iloc[:, 2].apply(sentiment_analysis)\n",
        "\n",
        "# 将结果写回原Excel文件的第四列 write the sentiment score back to the forth column\n",
        "with pd.ExcelWriter('/content/corpus.xlsx', mode='a', if_sheet_exists='replace') as writer:\n",
        "    df.to_excel(writer, index=False)"
      ],
      "metadata": {
        "id": "QMG4nV35Y1yX"
      },
      "execution_count": null,
      "outputs": []
    },
    {
      "cell_type": "code",
      "source": [],
      "metadata": {
        "id": "1xrdZSMpnyGu"
      },
      "execution_count": null,
      "outputs": []
    }
  ]
}