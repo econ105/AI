{
  "nbformat": 4,
  "nbformat_minor": 0,
  "metadata": {
    "colab": {
      "provenance": [],
      "include_colab_link": true
    },
    "kernelspec": {
      "name": "python3",
      "display_name": "Python 3"
    },
    "language_info": {
      "name": "python"
    }
  },
  "cells": [
    {
      "cell_type": "markdown",
      "metadata": {
        "id": "view-in-github",
        "colab_type": "text"
      },
      "source": [
        "<a href=\"https://colab.research.google.com/github/econ105/AI/blob/main/snownlp2.ipynb\" target=\"_parent\"><img src=\"https://colab.research.google.com/assets/colab-badge.svg\" alt=\"Open In Colab\"/></a>"
      ]
    },
    {
      "cell_type": "code",
      "execution_count": null,
      "metadata": {
        "colab": {
          "base_uri": "https://localhost:8080/"
        },
        "id": "kpNyKJc5z7li",
        "outputId": "e91046eb-f911-48cd-d08c-a45969f500c9"
      },
      "outputs": [
        {
          "output_type": "stream",
          "name": "stdout",
          "text": [
            "Collecting snownlp\n",
            "  Downloading snownlp-0.12.3.tar.gz (37.6 MB)\n",
            "\u001b[2K     \u001b[90m━━━━━━━━━━━━━━━━━━━━━━━━━━━━━━━━━━━━━━━━\u001b[0m \u001b[32m37.6/37.6 MB\u001b[0m \u001b[31m10.4 MB/s\u001b[0m eta \u001b[36m0:00:00\u001b[0m\n",
            "\u001b[?25h  Preparing metadata (setup.py) ... \u001b[?25l\u001b[?25hdone\n",
            "Building wheels for collected packages: snownlp\n",
            "  Building wheel for snownlp (setup.py) ... \u001b[?25l\u001b[?25hdone\n",
            "  Created wheel for snownlp: filename=snownlp-0.12.3-py3-none-any.whl size=37760946 sha256=a0ef0f5af399c541989231d688d14523ff173965968f37ed63db2d26beed782e\n",
            "  Stored in directory: /root/.cache/pip/wheels/43/f3/70/8990fc249efeb396007766676706f71dd3d1ca3c023ce522ce\n",
            "Successfully built snownlp\n",
            "Installing collected packages: snownlp\n",
            "Successfully installed snownlp-0.12.3\n"
          ]
        }
      ],
      "source": [
        "pip install snownlp"
      ]
    },
    {
      "cell_type": "code",
      "source": [
        "from snownlp import SnowNLP"
      ],
      "metadata": {
        "id": "PCNEUuurz_jl"
      },
      "execution_count": null,
      "outputs": []
    },
    {
      "cell_type": "code",
      "source": [
        "text=\"解决这个问题的关键是先找到关键的问题\"\n",
        "s=SnowNLP(text)\n",
        "words_list=s.words\n",
        "print(words_list)"
      ],
      "metadata": {
        "colab": {
          "base_uri": "https://localhost:8080/"
        },
        "id": "nHysfBbf0Vv1",
        "outputId": "f8fa9199-3558-4118-b03e-0f66a5e13389"
      },
      "execution_count": null,
      "outputs": [
        {
          "output_type": "stream",
          "name": "stdout",
          "text": [
            "['解决', '这个', '问题', '的', '关键', '是', '先', '找', '到', '关键', '的', '问题']\n"
          ]
        }
      ]
    },
    {
      "cell_type": "code",
      "source": [
        "s=SnowNLP(\"我发现编程真的好难\")\n",
        "print(s.keywords(4))"
      ],
      "metadata": {
        "colab": {
          "base_uri": "https://localhost:8080/"
        },
        "id": "jTsL8ZOi0xPX",
        "outputId": "f3ad8c43-9195-4306-9dd2-1a52191b0817"
      },
      "execution_count": null,
      "outputs": [
        {
          "output_type": "stream",
          "name": "stdout",
          "text": [
            "['编程', '好难', '真的', '发现']\n"
          ]
        }
      ]
    },
    {
      "cell_type": "code",
      "source": [
        "text=\"我发现编程真的好难,但是麦当劳很好吃\"\n",
        "s=SnowNLP(text)\n",
        "print(s.sentences)"
      ],
      "metadata": {
        "colab": {
          "base_uri": "https://localhost:8080/"
        },
        "id": "vXxU1byj1R4N",
        "outputId": "1ffe1f57-4bcc-4eee-f773-ab8f45867e73"
      },
      "execution_count": null,
      "outputs": [
        {
          "output_type": "stream",
          "name": "stdout",
          "text": [
            "['我发现编程真的好难,但是麦当劳很好吃']\n"
          ]
        }
      ]
    },
    {
      "cell_type": "code",
      "source": [
        "s=SnowNLP(\"我發覺編程真的好難，真的不是人學的東西啊！\")\n",
        "print(s.han)"
      ],
      "metadata": {
        "colab": {
          "base_uri": "https://localhost:8080/"
        },
        "id": "ddOxpYs21siE",
        "outputId": "48e68248-b6be-4b96-af52-f50eea90bc86"
      },
      "execution_count": null,
      "outputs": [
        {
          "output_type": "stream",
          "name": "stdout",
          "text": [
            "我发觉编程真的好难，真的不是人学的东西啊！\n"
          ]
        }
      ]
    },
    {
      "cell_type": "code",
      "source": [
        "text=\"这工作狗都不干\"\n",
        "s=SnowNLP(text)\n",
        "print(s.sentiments)"
      ],
      "metadata": {
        "colab": {
          "base_uri": "https://localhost:8080/"
        },
        "id": "2CSjuqsu2JUF",
        "outputId": "d3957c09-624b-4020-e7e9-9866055f4502"
      },
      "execution_count": null,
      "outputs": [
        {
          "output_type": "stream",
          "name": "stdout",
          "text": [
            "0.2205915558008712\n"
          ]
        }
      ]
    },
    {
      "cell_type": "code",
      "source": [
        "s=SnowNLP(\"解决这个问题的关键，是先找到关键的问题，但是你以为我真的想解决问题？？？我不过是想吃饭而已\")\n",
        "print(s.summary(3))"
      ],
      "metadata": {
        "colab": {
          "base_uri": "https://localhost:8080/"
        },
        "id": "csUpxWzR2fFo",
        "outputId": "79adf2e2-11e3-4b15-9420-93087c647a32"
      },
      "execution_count": null,
      "outputs": [
        {
          "output_type": "stream",
          "name": "stdout",
          "text": [
            "['解决这个问题的关键', '是先找到关键的问题', '但是你以为我真的想解决问题']\n"
          ]
        }
      ]
    },
    {
      "cell_type": "code",
      "source": [],
      "metadata": {
        "id": "1Ul1lb2b3jO4"
      },
      "execution_count": null,
      "outputs": []
    }
  ]
}