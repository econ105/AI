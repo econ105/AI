{
 "cells": [
  {
   "cell_type": "code",
   "execution_count": 2,
   "id": "39574c6f-a6e2-40f0-a17f-4a1a2b534c08",
   "metadata": {},
   "outputs": [
    {
     "name": "stdout",
     "output_type": "stream",
     "text": [
      "Looking in indexes: https://pypi.tuna.tsinghua.edu.cn/simple\n",
      "Collecting opencv-python\n",
      "  Downloading https://pypi.tuna.tsinghua.edu.cn/packages/35/69/b657974ddcbba54d59d7d62b01e60a8b815e35f415b996e4d355be0ac7b4/opencv_python-4.9.0.80-cp37-abi3-macosx_10_16_x86_64.whl (55.7 MB)\n",
      "\u001b[2K     \u001b[90m━━━━━━━━━━━━━━━━━━━━━━━━━━━━━━━━━━━━━━━━\u001b[0m \u001b[32m55.7/55.7 MB\u001b[0m \u001b[31m1.2 MB/s\u001b[0m eta \u001b[36m0:00:00\u001b[0m00:01\u001b[0m00:02\u001b[0mm\n",
      "\u001b[?25hRequirement already satisfied: numpy>=1.17.0 in /opt/anaconda3/lib/python3.9/site-packages (from opencv-python) (1.23.5)\n",
      "Installing collected packages: opencv-python\n",
      "Successfully installed opencv-python-4.9.0.80\n",
      "Note: you may need to restart the kernel to use updated packages.\n"
     ]
    }
   ],
   "source": [
    "pip install opencv-python"
   ]
  },
  {
   "cell_type": "code",
   "execution_count": null,
   "id": "6ddde08d-ea5d-4fa8-8cca-f7fb09e281e7",
   "metadata": {},
   "outputs": [],
   "source": [
    "import cv2 as cv#This imports the OpenCV library and gives it the alias cv for easier use in the code.\n",
    "img=cv.imread(\"IMG_0901.dng\")#Reads an image from the specified file path and stores it in the variable img."
   ]
  },
  {
   "cell_type": "code",
   "execution_count": null,
   "id": "2bdbc419-19cc-4699-8a81-1beb1d8413cb",
   "metadata": {},
   "outputs": [],
   "source": [
    "cv.imshow(\"Display window\", img)#This displays the image in a window with the title \"Display window\". \n",
    "                                #The image data stored in the variable img is shown in this window.\n",
    "k=cv.waitKey(0)# Wait for a keystroke in the window.\n",
    "                #The parameter 0 indicates that it will wait indefinitely until a key is pressed."
   ]
  },
  {
   "cell_type": "code",
   "execution_count": null,
   "id": "c397fc5d-5e4d-4afb-b717-df116e3655c4",
   "metadata": {},
   "outputs": [],
   "source": []
  }
 ],
 "metadata": {
  "kernelspec": {
   "display_name": "Python 3 (ipykernel)",
   "language": "python",
   "name": "python3"
  },
  "language_info": {
   "codemirror_mode": {
    "name": "ipython",
    "version": 3
   },
   "file_extension": ".py",
   "mimetype": "text/x-python",
   "name": "python",
   "nbconvert_exporter": "python",
   "pygments_lexer": "ipython3",
   "version": "3.9.18"
  }
 },
 "nbformat": 4,
 "nbformat_minor": 5
}
