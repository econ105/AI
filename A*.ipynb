{
  "nbformat": 4,
  "nbformat_minor": 0,
  "metadata": {
    "colab": {
      "provenance": [],
      "include_colab_link": true
    },
    "kernelspec": {
      "name": "python3",
      "display_name": "Python 3"
    },
    "language_info": {
      "name": "python"
    }
  },
  "cells": [
    {
      "cell_type": "markdown",
      "metadata": {
        "id": "view-in-github",
        "colab_type": "text"
      },
      "source": [
        "<a href=\"https://colab.research.google.com/github/econ105/AI/blob/main/A*.ipynb\" target=\"_parent\"><img src=\"https://colab.research.google.com/assets/colab-badge.svg\" alt=\"Open In Colab\"/></a>"
      ]
    },
    {
      "cell_type": "code",
      "execution_count": null,
      "metadata": {
        "colab": {
          "base_uri": "https://localhost:8080/",
          "height": 466
        },
        "id": "XrdiSkOWKNjz",
        "outputId": "d64a879f-b133-4589-969e-36d7f3c3b68b"
      },
      "outputs": [
        {
          "output_type": "stream",
          "name": "stdout",
          "text": [
            "route [(-1, -1), (0, 0), (1, 1), (1, 2), (0, 3), (1, 4), (1, 5), (1, 6), (2, 7), (3, 7), (4, 7)]\n",
            "cost 10\n"
          ]
        },
        {
          "output_type": "display_data",
          "data": {
            "text/plain": [
              "<Figure size 640x480 with 1 Axes>"
            ],
            "image/png": "[encoded data removed]"
          },
          "metadata": {}
        }
      ],
      "source": [
        "from __future__ import print_function#import helpful tools\n",
        "import matplotlib.pyplot as plt#helpful package\n",
        "class AStarGraph(object):#Define a class board like grid with two barriers\n",
        "\tdef __init__(self):\n",
        "\t\tself.barriers = []\n",
        "\t\tself.barriers.append([(2,2),(2,3),(2,4),(2,5),(2,6),(3,6),(4,6),(5,6),(5,5),(5,4),(5,3),(5,2),(4,2),(3,2),(2,2)])\n",
        "\tdef heuristic(self, start, goal):#Use Chebyshev distance heuristic if we can move one square either\n",
        "\t\t#adjacent or diagonal\n",
        "\t\tD = 1\n",
        "\t\tD2 = 1\n",
        "\t\tdx = abs(start[0] - goal[0])\n",
        "\t\tdy = abs(start[1] - goal[1])\n",
        "\t\treturn D * (dx + dy) + (D2 - 2 * D) * min(dx, dy)\n",
        "\tdef get_vertex_neighbours(self, pos):\n",
        "\t\tn = []\n",
        "\t\t#Moves allow link a chess king\n",
        "\t\tfor dx, dy in [(1,0),(-1,0),(0,1),(0,-1),(1,1),(-1,1),(1,-1),(-1,-1)]:\n",
        "\t\t\tx2 = pos[0] + dx\n",
        "\t\t\ty2 = pos[1] + dy\n",
        "\t\t\tif x2 < 0 or x2 > 7 or y2 < 0 or y2 > 7:\n",
        "\t\t\t\tcontinue\n",
        "\t\t\tn.append((x2, y2))\n",
        "\t\treturn n\n",
        "\tdef move_cost(self, a, b):\n",
        "\t\tfor barrier in self.barriers:\n",
        "\t\t\tif b in barrier:\n",
        "\t\t\t\treturn 100 #Extremely high cost to enter barrier squares\n",
        "\t\treturn 1 #Normal movement cost\n",
        "def AStarSearch(start, end, graph):\n",
        "\tG = {} #Actual movement cost to each position from the start position\n",
        "\tF = {} #Estimated movement cost of start to end going via this position\n",
        "\t#Initialize starting values\n",
        "\tG[start] = 0\n",
        "\tF[start] = graph.heuristic(start, end)\n",
        "\tclosedVertices = set()\n",
        "\topenVertices = set([start])\n",
        "\tcameFrom = {}\n",
        "\twhile len(openVertices) > 0:\n",
        "\t\t#Get the vertex in the open list with the lowest F score\n",
        "\t\tcurrent = None\n",
        "\t\tcurrentFscore = None\n",
        "\t\tfor pos in openVertices:\n",
        "\t\t\tif current is None or F[pos] < currentFscore:\n",
        "\t\t\t\tcurrentFscore = F[pos]\n",
        "\t\t\t\tcurrent = pos\n",
        "\t\t#Check if we have reached the goal\n",
        "\t\tif current == end:\n",
        "\t\t\t#Retrace our route backward\n",
        "\t\t\tpath = [current]\n",
        "\t\t\twhile current in cameFrom:\n",
        "\t\t\t\tcurrent = cameFrom[current]\n",
        "\t\t\t\tpath.append(current)\n",
        "\t\t\tpath.reverse()\n",
        "\t\t\treturn path, F[end] #Done!\n",
        "\t\t#Mark the current vertex as closed\n",
        "\t\topenVertices.remove(current)\n",
        "\t\tclosedVertices.add(current)\n",
        "\t\t#Update scores for vertices near the current position\n",
        "\t\tfor neighbour in graph.get_vertex_neighbours(current):\n",
        "\t\t\tif neighbour in closedVertices:\n",
        "\t\t\t\tcontinue #We have already processed this node exhaustively\n",
        "\t\t\tcandidateG = G[current] + graph.move_cost(current, neighbour)\n",
        "\t\t\tif neighbour not in openVertices:\n",
        "\t\t\t\topenVertices.add(neighbour) #Discovered a new vertex\n",
        "\t\t\telif candidateG >= G[neighbour]:\n",
        "\t\t\t\tcontinue #This G score is worse than previously found\n",
        "\t\t\t#Adopt this G score\n",
        "\t\t\tcameFrom[neighbour] = current\n",
        "\t\t\tG[neighbour] = candidateG\n",
        "\t\t\tH = graph.heuristic(neighbour, end)\n",
        "\t\t\tF[neighbour] = G[neighbour] + H\n",
        "\traise RuntimeError(\"A* failed to find a solution\")\n",
        "if __name__==\"__main__\":\n",
        "\tgraph = AStarGraph()\n",
        "\tresult, cost = AStarSearch((-1,-1), (4,7), graph)\n",
        "\tprint (\"route\", result)\n",
        "\tprint (\"cost\", cost)\n",
        "\tplt.plot([v[0] for v in result], [v[1] for v in result])\n",
        "\tfor barrier in graph.barriers:\n",
        "\t\tplt.plot([v[0] for v in barrier], [v[1] for v in barrier])\n",
        "\t#plt.xlim(-1,8)\n",
        "\t#plt.ylim(-1,8)\n",
        "\tplt.show()"
      ]
    },
    {
      "cell_type": "code",
      "source": [
        ">>> X = [[0], [1], [2], [3]]\n",
        ">>> y = [0, 0, 1, 1]#This defines the feature data X and the corresponding target values y.\n",
        ">>> from sklearn.neighbors import KNeighborsClassifier#This imports the KNeighborsClassifier class from the scikit-learn library, which is used to create a KNN classifier.\n",
        ">>> neigh = KNeighborsClassifier(n_neighbors=3)#This creates a KNN classifier object called neigh, with the parameter n_neighbors set to 3, indicating that it will consider 3 nearest neighbors.\n",
        ">>> neigh.fit(X, y)#This method trains the KNN classifier using the feature data X and the target values y.\n",
        "KNeighborsClassifier(...)\n",
        ">>> print(neigh.predict([[1.1]]))#This line predicts the class for a new data point [1.1] using the trained KNN classifier and prints the result, which in this case is [0]print(neigh.predict_proba([[0.9]]))#This line predicts the probabilities of the new data point [0.9] belonging to each class using the trained KNN classifier and prints the result"
      ],
      "metadata": {
        "id": "6VeHHfAhSoI_"
      },
      "execution_count": null,
      "outputs": []
    }
  ]
}