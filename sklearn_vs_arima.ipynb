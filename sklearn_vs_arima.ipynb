{
  "nbformat": 4,
  "nbformat_minor": 0,
  "metadata": {
    "colab": {
      "provenance": [],
      "authorship_tag": "ABX9TyP1/fhxsHJm2sW/cOk4kVTG",
      "include_colab_link": true
    },
    "kernelspec": {
      "name": "python3",
      "display_name": "Python 3"
    },
    "language_info": {
      "name": "python"
    }
  },
  "cells": [
    {
      "cell_type": "markdown",
      "metadata": {
        "id": "view-in-github",
        "colab_type": "text"
      },
      "source": [
        "<a href=\"https://colab.research.google.com/github/econ105/AI/blob/main/sklearn_vs_arima.ipynb\" target=\"_parent\"><img src=\"https://colab.research.google.com/assets/colab-badge.svg\" alt=\"Open In Colab\"/></a>"
      ]
    },
    {
      "cell_type": "code",
      "execution_count": null,
      "metadata": {
        "colab": {
          "base_uri": "https://localhost:8080/"
        },
        "id": "z29RDgoMrzt3",
        "outputId": "382f2208-a204-4358-8f3b-0775631c5fbc"
      },
      "outputs": [
        {
          "output_type": "stream",
          "name": "stdout",
          "text": [
            "        Date       Open\n",
            "0 2024-01-27  86.689999\n",
            "1 2024-01-28  86.251977\n",
            "2 2024-01-29  85.813955\n"
          ]
        }
      ],
      "source": [
        "import pandas as pd\n",
        "from sklearn.linear_model import LinearRegression\n",
        "\n",
        "# Define the historical data\n",
        "data = {\n",
        "    \"Date\": [\n",
        "        \"9/1/2024\", \"10/1/2024\", \"11/1/2024\", \"12/1/2024\", \"15/1/2024\", \"16/1/2024\",\n",
        "        \"17/1/2024\", \"18/1/2024\", \"19/1/2024\", \"22/1/2024\", \"23/1/2024\", \"24/1/2024\",\n",
        "        \"25/1/2024\", \"26/1/2024\"\n",
        "    ],\n",
        "    \"Open\": [\n",
        "        86.800003, 86.5, 85.449997, 86.199997, 85.449997, 85.599998, 83.199997,\n",
        "        82.25, 83.5, 82.5, 79.599998, 81, 82.949997, 82.800003\n",
        "    ]\n",
        "}\n",
        "\n",
        "# Create a DataFrame\n",
        "df = pd.DataFrame(data)\n",
        "\n",
        "# Convert the Date column to datetime\n",
        "df[\"Date\"] = pd.to_datetime(df[\"Date\"], dayfirst=True)\n",
        "\n",
        "# Sort the DataFrame by date in ascending order\n",
        "df = df.sort_values(by=\"Date\", ascending=True)\n",
        "\n",
        "# Reset the index after sorting\n",
        "df = df.reset_index(drop=True)\n",
        "\n",
        "# Create a new DataFrame for prediction\n",
        "prediction_data = pd.DataFrame({\n",
        "    \"Date\": pd.to_datetime([\"27/1/2024\", \"28/1/2024\", \"29/1/2024\"], dayfirst=True)\n",
        "})\n",
        "\n",
        "# Fit a linear regression model\n",
        "model = LinearRegression()\n",
        "model.fit(df.index.values.reshape(-1, 1), df[\"Open\"])\n",
        "\n",
        "# Predict the open values for the next 3 days\n",
        "prediction_data[\"Open\"] = model.predict(prediction_data.index.values.reshape(-1, 1))\n",
        "\n",
        "# Print the predicted open values\n",
        "print(prediction_data)"
      ]
    },
    {
      "cell_type": "code",
      "source": [
        "import pandas as pd\n",
        "import numpy as np\n",
        "from statsmodels.tsa.arima.model import ARIMA\n",
        "\n",
        "# Define the historical data\n",
        "data = {\n",
        "    \"Date\": [\n",
        "        \"9/1/2024\", \"10/1/2024\", \"11/1/2024\", \"12/1/2024\", \"15/1/2024\", \"16/1/2024\",\n",
        "        \"17/1/2024\", \"18/1/2024\", \"19/1/2024\", \"22/1/2024\", \"23/1/2024\", \"24/1/2024\",\n",
        "        \"25/1/2024\", \"26/1/2024\"\n",
        "    ],\n",
        "    \"Open\": [\n",
        "        86.800003, 86.5, 85.449997, 86.199997, 85.449997, 85.599998, 83.199997,\n",
        "        82.25, 83.5, 82.5, 79.599998, 81, 82.949997, 82.800003\n",
        "    ]\n",
        "}\n",
        "\n",
        "# Create a DataFrame\n",
        "df = pd.DataFrame(data)\n",
        "\n",
        "# Convert the Date column to datetime\n",
        "df[\"Date\"] = pd.to_datetime(df[\"Date\"], dayfirst=True)\n",
        "\n",
        "# Set the Date column as the index\n",
        "df.set_index(\"Date\", inplace=True)\n",
        "\n",
        "# Convert the data type of the Open column to float\n",
        "df[\"Open\"] = df[\"Open\"].astype(float)\n",
        "\n",
        "# Fit the ARIMA model\n",
        "model = ARIMA(df[\"Open\"], order=(1, 0, 0))\n",
        "model_fit = model.fit()\n",
        "\n",
        "# Predict the open values for the next 3 days\n",
        "forecast = model_fit.forecast(steps=3)\n",
        "next_dates = pd.date_range(start=df.index[-1], periods=4, closed='right')[1:]\n",
        "prediction_data = pd.DataFrame({\n",
        "    \"Date\": next_dates,\n",
        "    \"Open\": forecast[0]\n",
        "})\n",
        "\n",
        "# Print the predicted open values\n",
        "print(prediction_data)"
      ],
      "metadata": {
        "colab": {
          "base_uri": "https://localhost:8080/"
        },
        "id": "2OHIFszstwDG",
        "outputId": "98613c84-1a02-4726-944f-ea854c199b17"
      },
      "execution_count": null,
      "outputs": [
        {
          "output_type": "stream",
          "name": "stdout",
          "text": [
            "        Date       Open\n",
            "0 2024-01-28  83.098213\n",
            "1 2024-01-29  83.098213\n"
          ]
        },
        {
          "output_type": "stream",
          "name": "stderr",
          "text": [
            "/usr/local/lib/python3.10/dist-packages/statsmodels/tsa/base/tsa_model.py:473: ValueWarning: No frequency information was provided, so inferred frequency B will be used.\n",
            "  self._init_dates(dates, freq)\n",
            "/usr/local/lib/python3.10/dist-packages/statsmodels/tsa/base/tsa_model.py:473: ValueWarning: No frequency information was provided, so inferred frequency B will be used.\n",
            "  self._init_dates(dates, freq)\n",
            "/usr/local/lib/python3.10/dist-packages/statsmodels/tsa/base/tsa_model.py:473: ValueWarning: No frequency information was provided, so inferred frequency B will be used.\n",
            "  self._init_dates(dates, freq)\n",
            "<ipython-input-3-f12b7a392aed>:36: FutureWarning: Argument `closed` is deprecated in favor of `inclusive`.\n",
            "  next_dates = pd.date_range(start=df.index[-1], periods=4, closed='right')[1:]\n"
          ]
        }
      ]
    },
    {
      "cell_type": "code",
      "source": [
        "import pandas as pd\n",
        "from sklearn.linear_model import LinearRegression\n",
        "\n",
        "# Define the historical data\n",
        "data = {\n",
        "    \"Date\": [\n",
        "        \"9/1/2024\", \"10/1/2024\", \"11/1/2024\", \"12/1/2024\", \"15/1/2024\", \"16/1/2024\",\n",
        "        \"17/1/2024\", \"18/1/2024\", \"19/1/2024\", \"22/1/2024\", \"23/1/2024\", \"24/1/2024\",\n",
        "        \"25/1/2024\", \"26/1/2024\"\n",
        "    ],\n",
        "    \"Open\": [\n",
        "        86.800003, 86.5, 85.449997, 86.199997, 85.449997, 85.599998, 83.199997,\n",
        "        82.25, 83.5, 82.5, 79.599998, 81, 82.949997, 82.800003\n",
        "    ],\n",
        "    \"Volume\": [\n",
        "        828137, 1198206, 726415, 1743907, 0, 3421388, 2046396, 2432394,\n",
        "        1384820, 2201636, 1429331, 2226788, 1429685, 1187765\n",
        "    ]\n",
        "}\n",
        "\n",
        "# Create a DataFrame\n",
        "df = pd.DataFrame(data)\n",
        "\n",
        "# Convert the Date column to datetime\n",
        "df[\"Date\"] = pd.to_datetime(df[\"Date\"], dayfirst=True)\n",
        "\n",
        "# Sort the DataFrame by date in ascending order\n",
        "df = df.sort_values(by=\"Date\", ascending=True)\n",
        "\n",
        "# Reset the index after sorting\n",
        "df = df.reset_index(drop=True)\n",
        "\n",
        "# Split the data into training and testing sets\n",
        "train_size = int(len(df) * 0.8)\n",
        "train_data = df[:train_size]\n",
        "test_data = df[train_size:]\n",
        "\n",
        "# Fit the linear regression model for Volume\n",
        "model_volume = LinearRegression()\n",
        "model_volume.fit(train_data[[\"Open\"]], train_data[\"Volume\"])\n",
        "\n",
        "# Predict the next Open value\n",
        "next_open = df[\"Open\"].iloc[-1]\n",
        "next_volume = model_volume.predict([[next_open]])\n",
        "\n",
        "# Print the predicted next Volume value\n",
        "print(\"Predicted Volume:\", next_volume[0])"
      ],
      "metadata": {
        "colab": {
          "base_uri": "https://localhost:8080/"
        },
        "id": "8zbGLApzvoPr",
        "outputId": "1b4a6c93-a142-4300-a26c-e4a0c0398884"
      },
      "execution_count": null,
      "outputs": [
        {
          "output_type": "stream",
          "name": "stdout",
          "text": [
            "Predicted Volume: 1739079.292033499\n"
          ]
        },
        {
          "output_type": "stream",
          "name": "stderr",
          "text": [
            "/usr/local/lib/python3.10/dist-packages/sklearn/base.py:439: UserWarning: X does not have valid feature names, but LinearRegression was fitted with feature names\n",
            "  warnings.warn(\n"
          ]
        }
      ]
    },
    {
      "cell_type": "code",
      "source": [
        "import pandas as pd\n",
        "from sklearn.linear_model import LinearRegression\n",
        "\n",
        "# Define the historical data\n",
        "data = {\n",
        "    \"Date\": [\n",
        "        \"9/1/2024\", \"10/1/2024\", \"11/1/2024\", \"12/1/2024\", \"15/1/2024\", \"16/1/2024\",\n",
        "        \"17/1/2024\", \"18/1/2024\", \"19/1/2024\", \"22/1/2024\", \"23/1/2024\", \"24/1/2024\",\n",
        "        \"25/1/2024\", \"26/1/2024\"\n",
        "    ],\n",
        "    \"Open\": [\n",
        "        86.800003, 86.5, 85.449997, 86.199997, 85.449997, 85.599998, 83.199997,\n",
        "        82.25, 83.5, 82.5, 79.599998, 81, 82.949997, 82.800003\n",
        "    ],\n",
        "    \"Volume\": [\n",
        "        828137, 1198206, 726415, 1743907, 0, 3421388, 2046396, 2432394,\n",
        "        1384820, 2201636, 1429331, 2226788, 1429685, 1187765\n",
        "    ]\n",
        "}\n",
        "\n",
        "# Create a DataFrame\n",
        "df = pd.DataFrame(data)\n",
        "\n",
        "# Convert the Date column to datetime\n",
        "df[\"Date\"] = pd.to_datetime(df[\"Date\"], dayfirst=True)\n",
        "\n",
        "# Sort the DataFrame by date in ascending order\n",
        "df = df.sort_values(by=\"Date\", ascending=True)\n",
        "\n",
        "# Reset the index after sorting\n",
        "df = df.reset_index(drop=True)\n",
        "\n",
        "# Split the data into training and testing sets\n",
        "train_size = int(len(df) * 0.8)\n",
        "train_data = df[:train_size]\n",
        "test_data = df[train_size:]\n",
        "\n",
        "# Fit the linear regression model for Volume\n",
        "model_volume = LinearRegression()\n",
        "model_volume.fit(train_data[[\"Open\"]], train_data[\"Volume\"])\n",
        "\n",
        "# Predict the next Open and Volume values\n",
        "next_open = df[\"Open\"].iloc[-1]\n",
        "next_volume = model_volume.predict([[next_open]])\n",
        "\n",
        "# Print the predicted next Open and Volume values\n",
        "print(\"Predicted Open:\", next_open)\n",
        "print(\"Predicted Volume:\", next_volume[0])"
      ],
      "metadata": {
        "colab": {
          "base_uri": "https://localhost:8080/"
        },
        "id": "0YuSswQZv9Pm",
        "outputId": "9ead3076-c4dc-4fd8-a6c8-ba228a745562"
      },
      "execution_count": null,
      "outputs": [
        {
          "output_type": "stream",
          "name": "stdout",
          "text": [
            "Predicted Open: 82.800003\n",
            "Predicted Volume: 1739079.292033499\n"
          ]
        },
        {
          "output_type": "stream",
          "name": "stderr",
          "text": [
            "/usr/local/lib/python3.10/dist-packages/sklearn/base.py:439: UserWarning: X does not have valid feature names, but LinearRegression was fitted with feature names\n",
            "  warnings.warn(\n"
          ]
        }
      ]
    }
  ]
}